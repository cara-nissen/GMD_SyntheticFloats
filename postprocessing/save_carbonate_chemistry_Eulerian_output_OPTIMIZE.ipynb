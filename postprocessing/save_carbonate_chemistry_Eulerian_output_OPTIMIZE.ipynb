{
 "cells": [
  {
   "cell_type": "markdown",
   "metadata": {},
   "source": [
    "# compute pH, omega_aragonite, omega_calcite -> EULERIAN OUTPUT\n",
    "# use mocsy routines\n",
    "# NOTE: to be able to call the fortran package, use python3!!!\n",
    "# TRY TO SPEED THINGS UP!"
   ]
  },
  {
   "cell_type": "code",
   "execution_count": null,
   "metadata": {},
   "outputs": [],
   "source": [
    "# some useful links:\n",
    "\n",
    "# getting started with mocsy: http://ocmip5.ipsl.jussieu.fr/mocsy/fort.html\n",
    "# getting started with using mocsy in python: http://ocmip5.ipsl.jussieu.fr/mocsy/pyth.html\n",
    "# mocsy code: https://github.com/jamesorr/mocsy\n",
    "# example notebooks: https://github.com/jamesorr/mocsy/tree/master/notebooks\n",
    "# paper about mocsy: https://gmd.copernicus.org/articles/8/485/2015/gmd-8-485-2015.pdf \n"
   ]
  },
  {
   "cell_type": "code",
   "execution_count": null,
   "metadata": {
    "tags": []
   },
   "outputs": [],
   "source": [
    "#!jupyter nbconvert --to script save_carbonate_chemistry_on_floats.ipynb"
   ]
  },
  {
   "cell_type": "code",
   "execution_count": 1,
   "metadata": {
    "tags": []
   },
   "outputs": [],
   "source": [
    "import warnings\n",
    "warnings.filterwarnings('ignore')\n",
    "import sys\n",
    "#sys.path.append(\"python_gsw_py3/\") # add GSW to search path -> python3 version\n",
    "sys.path.append(\"mocsy/\")\n",
    "#sys.path.append('/home/ollie/jhauck/py_fesom/modules/')\n",
    "sys.path.append('/global/homes/c/cnissen/scripts_Ollie/python_gsw_py3/gsw/gibbs/')\n",
    "import os\n",
    "#import pyfesom2 as pf\n",
    "import matplotlib.pyplot as plt\n",
    "from matplotlib.colors import LinearSegmentedColormap\n",
    "import numpy as np\n",
    "from scipy.interpolate import griddata\n",
    "from matplotlib import cm\n",
    "from netCDF4 import Dataset, MFDataset\n",
    "import pandas as pd\n",
    "import mocsy\n",
    "from gsw import p_from_z # get pressure from z and lat\n",
    "import timeit\n",
    "from numba import njit\n",
    "import xarray as xr\n",
    "from tqdm import tqdm\n",
    "import time"
   ]
  },
  {
   "cell_type": "code",
   "execution_count": 2,
   "metadata": {
    "tags": []
   },
   "outputs": [],
   "source": [
    "#-----\n",
    "# get some general infor about mocsy\n",
    "#-----\n",
    "\n",
    "#print(mocsy.__version__)\n",
    "#print(mocsy.__file__)\n",
    "#dir(mocsy)\n",
    "#print(mocsy.mvars.__doc__)\n",
    "#print(mocsy.mbuffesm.__doc__)\n"
   ]
  },
  {
   "cell_type": "code",
   "execution_count": 3,
   "metadata": {
    "tags": []
   },
   "outputs": [
    {
     "name": "stdout",
     "output_type": "stream",
     "text": [
      "['0055', '0056', '0057', '0058', '0059', '0060']\n",
      "236853 nodes in mesh\n",
      "(236853,)\n",
      "(236853,)\n",
      "Min/Max lon: 0.0007300572350528742 359.997672445938\n",
      "Min/Max lat: -78.53259417674468 89.94461290099375\n",
      "layerThickness.shape: (1, 236853, 60)\n",
      "restingThickness.shape: (236853, 60)\n"
     ]
    }
   ],
   "source": [
    "#-----\n",
    "# load float output, calculate carbonate chemistry at each location, store in netcdf file\n",
    "#-----\n",
    "# what fields from model do I need?\n",
    "#    tos, sos, alk (surface only), dic (surface only), sio2 (surface only), din (surface only), slp\n",
    "#\n",
    "\n",
    "#----\n",
    "# some settings\n",
    "#----\n",
    "\n",
    "# path to float data\n",
    "path = '/global/cfs/cdirs/m4003/maltrud/6year/monthlyEulerianAverages/'\n",
    "\n",
    "year_list = ['0055','0056','0057','0058','0059','0060']\n",
    "print(year_list)\n",
    "\n",
    "# variables to save as netcdf \n",
    "# -> Note: if you want to save different variables, \n",
    "#          the code piece for writing these fields into a netcdf file needs to be adjusted\n",
    "#vari_list = ['pH', 'co2', 'hco3', 'co3', 'gammadic', 'gammaalk', 'rf']\n",
    "vari_list = ['pH', 'OmegaA','OmegaC']#,'pco2','co3']\n",
    "\n",
    "pressure_unit_conversion = 101325 # convert from Pa to atm\n",
    "# particle_atmPressure, N m-2 = Pa\n",
    "\n",
    "save_netcdf = True\n",
    "savepath    = '/global/cfs/cdirs/m4003/cnissen/floats/6year/'\n",
    "if not os.path.exists(savepath):\n",
    "    print('Created '+savepath)\n",
    "    os.makedirs(savepath)\n",
    "\n",
    "#---\n",
    "# read mesh info\n",
    "#---\n",
    "rad_to_deg = 180.0/np.pi\n",
    "\n",
    "path_mesh = '/global/cfs/cdirs/m4003/maltrud/'\n",
    "meshID = 'EC30to60E2r2'\n",
    "meshfile = xr. open_dataset(path_mesh+'ocean.'+meshID+'.210210.nc')\n",
    "#print(meshfile)\n",
    "\n",
    "lon  = meshfile['lonCell'].values*rad_to_deg\n",
    "lat  = meshfile['latCell'].values*rad_to_deg\n",
    "topo = meshfile['bottomDepth'].values\n",
    "area = meshfile['areaCell'].values\n",
    "zlevs            = meshfile['refBottomDepth'].values\n",
    "layerThickness   = meshfile['layerThickness'].values\n",
    "restingThickness = meshfile['restingThickness'].values\n",
    "\n",
    "print(len(lon),'nodes in mesh')\n",
    "print(topo.shape)\n",
    "print(area.shape)\n",
    "print('Min/Max lon:',np.min(lon),np.max(lon))\n",
    "print('Min/Max lat:',np.min(lat),np.max(lat))\n",
    "print('layerThickness.shape:',layerThickness.shape)\n",
    "print('restingThickness.shape:',restingThickness.shape)\n",
    "\n",
    "meshfile.close()\n"
   ]
  },
  {
   "cell_type": "code",
   "execution_count": 16,
   "metadata": {
    "tags": []
   },
   "outputs": [
    {
     "name": "stdout",
     "output_type": "stream",
     "text": [
      "Load year 0056\n",
      "Create file /global/cfs/cdirs/m4003/cnissen/floats/6year/pH_monthlyAverageEulerianFields.year0056.nc\n",
      "Create file /global/cfs/cdirs/m4003/cnissen/floats/6year/OmegaA_monthlyAverageEulerianFields.year0056.nc\n",
      "Create file /global/cfs/cdirs/m4003/cnissen/floats/6year/OmegaC_monthlyAverageEulerianFields.year0056.nc\n"
     ]
    },
    {
     "name": "stderr",
     "output_type": "stream",
     "text": [
      "100%|██████████| 12/12 [06:45<00:00, 33.79s/it]\n"
     ]
    },
    {
     "name": "stdout",
     "output_type": "stream",
     "text": [
      "405.50501251220703\n",
      "Load year 0057\n",
      "Create file /global/cfs/cdirs/m4003/cnissen/floats/6year/pH_monthlyAverageEulerianFields.year0057.nc\n",
      "Create file /global/cfs/cdirs/m4003/cnissen/floats/6year/OmegaA_monthlyAverageEulerianFields.year0057.nc\n",
      "Create file /global/cfs/cdirs/m4003/cnissen/floats/6year/OmegaC_monthlyAverageEulerianFields.year0057.nc\n"
     ]
    },
    {
     "name": "stderr",
     "output_type": "stream",
     "text": [
      "100%|██████████| 12/12 [06:39<00:00, 33.30s/it]\n"
     ]
    },
    {
     "name": "stdout",
     "output_type": "stream",
     "text": [
      "399.62709379196167\n",
      "Load year 0058\n",
      "Create file /global/cfs/cdirs/m4003/cnissen/floats/6year/pH_monthlyAverageEulerianFields.year0058.nc\n",
      "Create file /global/cfs/cdirs/m4003/cnissen/floats/6year/OmegaA_monthlyAverageEulerianFields.year0058.nc\n",
      "Create file /global/cfs/cdirs/m4003/cnissen/floats/6year/OmegaC_monthlyAverageEulerianFields.year0058.nc\n"
     ]
    },
    {
     "name": "stderr",
     "output_type": "stream",
     "text": [
      "100%|██████████| 12/12 [06:51<00:00, 34.30s/it]\n"
     ]
    },
    {
     "name": "stdout",
     "output_type": "stream",
     "text": [
      "411.6273868083954\n",
      "Load year 0059\n",
      "Create file /global/cfs/cdirs/m4003/cnissen/floats/6year/pH_monthlyAverageEulerianFields.year0059.nc\n",
      "Create file /global/cfs/cdirs/m4003/cnissen/floats/6year/OmegaA_monthlyAverageEulerianFields.year0059.nc\n",
      "Create file /global/cfs/cdirs/m4003/cnissen/floats/6year/OmegaC_monthlyAverageEulerianFields.year0059.nc\n"
     ]
    },
    {
     "name": "stderr",
     "output_type": "stream",
     "text": [
      "100%|██████████| 12/12 [06:41<00:00, 33.45s/it]\n"
     ]
    },
    {
     "name": "stdout",
     "output_type": "stream",
     "text": [
      "401.4023835659027\n",
      "Load year 0060\n",
      "Create file /global/cfs/cdirs/m4003/cnissen/floats/6year/pH_monthlyAverageEulerianFields.year0060.nc\n",
      "Create file /global/cfs/cdirs/m4003/cnissen/floats/6year/OmegaA_monthlyAverageEulerianFields.year0060.nc\n",
      "Create file /global/cfs/cdirs/m4003/cnissen/floats/6year/OmegaC_monthlyAverageEulerianFields.year0060.nc\n"
     ]
    },
    {
     "name": "stderr",
     "output_type": "stream",
     "text": [
      "100%|██████████| 12/12 [06:51<00:00, 34.30s/it]"
     ]
    },
    {
     "name": "stdout",
     "output_type": "stream",
     "text": [
      "411.5998623371124\n",
      "done\n"
     ]
    },
    {
     "name": "stderr",
     "output_type": "stream",
     "text": [
      "\n"
     ]
    }
   ],
   "source": [
    "#---\n",
    "# loop over years, load data, compute carbonate chemistry, store variables\n",
    "#---\n",
    "# tos, sos, alk (surface only), dic (surface only), sio2 (surface only), din (surface only), slp\n",
    "# \n",
    "\n",
    "save_netcdf = True\n",
    "\n",
    "factor_conc = 1./1000. # to convert concentrations from mmol m-3 to mol m-3\n",
    "\n",
    "for yy in range(1,len(year_list)):\n",
    "    print('Load year '+year_list[yy])\n",
    "    file1 = 'monthlyAverageEulerianFields.year'+year_list[yy]+'.nc' \n",
    "    data = xr. open_dataset(path+file1)\n",
    "    temp = data['timeMonthly_avg_activeTracers_temperature']#.values # time x depth x floats\n",
    "    salt = data['timeMonthly_avg_activeTracers_salinity']#.values\n",
    "    alk  = data['timeMonthly_avg_ecosysTracers_ALK']#.values\n",
    "    dic  = data['timeMonthly_avg_ecosysTracers_DIC']#.values\n",
    "    sio  = data['timeMonthly_avg_ecosysTracers_SiO3']#.values\n",
    "    po4  = data['timeMonthly_avg_ecosysTracers_PO4']#.values\n",
    "    slp  = data['timeMonthly_avg_atmosphericPressure']#.values # time x floats   \n",
    "    data.close()\n",
    "    \n",
    "    # get number of grid cells\n",
    "    num_cells = len(data['nCells'].values)\n",
    "    # get time\n",
    "    num_time = len(data['record'].values)\n",
    "    # get number of depth levels\n",
    "    num_depth = len(data['nVertLevels'].values)\n",
    "    \n",
    "    if save_netcdf: \n",
    "        fv = -9999\n",
    "        for vv in range(0,len(vari_list)):\n",
    "            netcdf_name = vari_list[vv]+'_monthlyAverageEulerianFields.year'+year_list[yy]+'.nc' \n",
    "            if not os.path.exists(savepath+netcdf_name):\n",
    "                print('Create file '+savepath+netcdf_name)\n",
    "                w_nc_fid = Dataset(savepath+netcdf_name, 'w', format='NETCDF4_CLASSIC')\n",
    "                w_nc_fid.mocsy_source = 'https://github.com/jamesorr/mocsy'\n",
    "                w_nc_fid.mocsy_dir    = '/global/homes/c/cnissen/scripts/mocsy'\n",
    "                # create dimension & variable\n",
    "                w_nc_fid.createDimension('record', num_time)  \n",
    "                w_nc_fid.createDimension('nCells', num_cells)  \n",
    "                w_nc_fid.createDimension('nVertLevels', num_depth) \n",
    "                w_nc_var1 = w_nc_fid.createVariable(vari_list[vv], 'f4',('record','nCells','nVertLevels'),fill_value=fv)\n",
    "                w_nc_var1.data_source = path+file1\n",
    "                #w_nc_var1.unit = 'degrees E'\n",
    "                w_nc_fid.close()\n",
    "                del netcdf_name\n",
    "                \n",
    "    start = time.time()                                \n",
    "    for tt in tqdm(range(0,num_time)):\n",
    "        for dd in range(0,num_depth):\n",
    "            \n",
    "            dic2  = np.squeeze(dic[tt,0,:,dd].values)\n",
    "            # timeMonthly_avg_ecosysTracers_DIC(record, Time, nCells, nVertLevels)\n",
    "            \n",
    "            # only continue if at least one entry exists\n",
    "            if np.max(dic2)>0: \n",
    "                \n",
    "                temp2 = np.squeeze(temp[tt,0,:,dd].values)\n",
    "                salt2 = np.squeeze(salt[tt,0,:,dd].values)\n",
    "                alk2  = np.squeeze(alk[tt,0,:,dd].values)\n",
    "                sio2  = np.squeeze(sio[tt,0,:,dd].values)\n",
    "                po42  = np.squeeze(po4[tt,0,:,dd].values)\n",
    "                slp2  = np.squeeze(slp[tt,0,:].values)\n",
    "                \n",
    "                ind_av = np.where(dic2>-1)[0]\n",
    "\n",
    "                if zlevs[dd]<0:\n",
    "                    pressure = p_from_z(zlevs[dd],lat[ind_av])\n",
    "                elif zlevs[dd]>=0:\n",
    "                    pressure = p_from_z(-1*zlevs[dd],lat[ind_av]) # to make sure that pressure is >0\n",
    "                #print('pressure',pressure)\n",
    "\n",
    "                pH = np.nan*np.zeros(num_cells)\n",
    "                pco2 = np.nan*np.zeros(num_cells)\n",
    "                fco2 = np.nan*np.zeros(num_cells)\n",
    "                co2 = np.nan*np.zeros(num_cells)\n",
    "                hco3 = np.nan*np.zeros(num_cells)\n",
    "                co3 = np.nan*np.zeros(num_cells)\n",
    "                OmegaA = np.nan*np.zeros(num_cells)\n",
    "                OmegaC = np.nan*np.zeros(num_cells)\n",
    "                BetaD = np.nan*np.zeros(num_cells)\n",
    "                DENis = np.nan*np.zeros(num_cells)\n",
    "                p = np.nan*np.zeros(num_cells)\n",
    "                Tis = np.nan*np.zeros(num_cells)\n",
    "\n",
    "                #gammadic = np.nan*np.zeros(num_time)\n",
    "                #betadic = np.nan*np.zeros(num_time)\n",
    "                #omegadic = np.nan*np.zeros(num_time)\n",
    "                #gammaalk = np.nan*np.zeros(num_time)\n",
    "                #betaalk = np.nan*np.zeros(num_time)\n",
    "                #omegaalk = np.nan*np.zeros(num_time)\n",
    "                #rf = np.nan*np.zeros(num_time)\n",
    "\n",
    "                # make sure to convert slp from Pa to atm; units of nutrients etc. should be mol m-3\n",
    "                pH[ind_av],pco2[ind_av],fco2[ind_av],co2[ind_av],\\\n",
    "                    hco3[ind_av],co3[ind_av],OmegaA[ind_av],OmegaC[ind_av],\\\n",
    "                    BetaD[ind_av],DENis[ind_av],p[ind_av],Tis[ind_av] = mocsy.mvars(temp2[ind_av],\n",
    "                            salt2[ind_av], alk2[ind_av]*factor_conc, dic2[ind_av]*factor_conc,\\\n",
    "                            sio2[ind_av]*factor_conc, po42[ind_av]*factor_conc, \n",
    "                            slp2[ind_av]*pressure_unit_conversion, pressure, lat[ind_av],optcon='mol/m3', optt='Tpot', \n",
    "                            optp='db', optb=\"u74\", optk1k2='l', optkf=\"dg\", optgas=\"Pinsitu\")\n",
    "                #print('Done with computing carbonate chemistry')\n",
    "                \n",
    "                #gammadic[ind_av],betadic[ind_av],omegadic[ind_av],\\\n",
    "                #        gammaalk[ind_av],betaalk[ind_av],omegaalk[ind_av],rf[ind_av] = mocsy.mbuffesm(temp[:,dd][ind_av], salt[:,dd][ind_av],\n",
    "                #                                        alk[:,dd][ind_av]*factor_conc, dic[:,dd][ind_av]*factor_conc,\n",
    "                #                                        sio[:,dd][ind_av]*factor_conc, po4[:,dd][ind_av]*factor_conc,\n",
    "                #                                        slp[ind_av], pressure, lat[ind_av],\n",
    "                #                                        optcon='mol/m3', optt='Tpot',optp='db',\n",
    "                #                                        optb=\"u74\", optk1k2='l', optkf=\"dg\", optgas=\"Pinsitu\")\n",
    "\n",
    "                # to store: pH, co2, hco3, co3, gammadic, gammaalk, rf\n",
    "                if save_netcdf: \n",
    "                    for vv in range(0,len(vari_list)):\n",
    "                        netcdf_name = vari_list[vv]+'_monthlyAverageEulerianFields.year'+year_list[yy]+'.nc' \n",
    "                        w_nc_fid = Dataset(savepath+netcdf_name, 'r+', format='NETCDF4_CLASSIC') \n",
    "                        if vari_list[vv] in ['pH']:\n",
    "                            pH[np.isnan(pH)]=fv\n",
    "                            w_nc_fid.variables[vari_list[vv]][tt,:,dd] = pH\n",
    "                        elif vari_list[vv] in ['OmegaA']:\n",
    "                            OmegaA[np.isnan(OmegaA)]=fv\n",
    "                            w_nc_fid.variables[vari_list[vv]][tt,:,dd] = OmegaA\n",
    "                        elif vari_list[vv] in ['OmegaC']:\n",
    "                            OmegaC[np.isnan(OmegaC)]=fv\n",
    "                            w_nc_fid.variables[vari_list[vv]][tt,:,dd] = OmegaC\n",
    "                        w_nc_fid.close()  \n",
    "                        del netcdf_name\n",
    "\n",
    "            del slp2,dic2,alk2,sio2,po42,temp2,salt2\n",
    "        \n",
    "    end = time.time()\n",
    "    print(end - start)\n",
    "    \n",
    "print('done')\n"
   ]
  },
  {
   "cell_type": "code",
   "execution_count": null,
   "metadata": {
    "tags": []
   },
   "outputs": [],
   "source": []
  },
  {
   "cell_type": "code",
   "execution_count": null,
   "metadata": {},
   "outputs": [],
   "source": []
  },
  {
   "cell_type": "code",
   "execution_count": null,
   "metadata": {
    "tags": []
   },
   "outputs": [],
   "source": []
  },
  {
   "cell_type": "code",
   "execution_count": null,
   "metadata": {
    "tags": []
   },
   "outputs": [],
   "source": []
  },
  {
   "cell_type": "code",
   "execution_count": null,
   "metadata": {},
   "outputs": [],
   "source": []
  }
 ],
 "metadata": {
  "kernelspec": {
   "display_name": "myenv-jupyter",
   "language": "python",
   "name": "myenv-jupyter"
  },
  "language_info": {
   "codemirror_mode": {
    "name": "ipython",
    "version": 3
   },
   "file_extension": ".py",
   "mimetype": "text/x-python",
   "name": "python",
   "nbconvert_exporter": "python",
   "pygments_lexer": "ipython3",
   "version": "3.9.12"
  }
 },
 "nbformat": 4,
 "nbformat_minor": 4
}
