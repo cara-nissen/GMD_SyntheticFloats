{
 "cells": [
  {
   "cell_type": "markdown",
   "id": "816a8784-8c24-4bb5-b790-052766d66fa8",
   "metadata": {},
   "source": [
    "\n",
    "# prepare E3SM model data for archiving (CU peta library, access via globus)\n",
    "\n",
    "# 1) synthetic float output\n",
    "# 2) full Eulerian output\n"
   ]
  },
  {
   "cell_type": "code",
   "execution_count": 1,
   "id": "860ad28a-7d61-4bd1-ab78-71fc1ca51b51",
   "metadata": {},
   "outputs": [],
   "source": [
    "\n",
    "import sys\n",
    "sys.path.append('/global/homes/c/cnissen/scripts/seawater-3.3.4/seawater/')\n",
    "sys.path.append(\"/global/homes/c/cnissen/scripts/python_gsw_py3/\")\n",
    "import os\n",
    "import numpy as np\n",
    "import xarray as xr\n",
    "from netCDF4 import Dataset\n",
    "import cartopy\n",
    "import cartopy.crs as ccrs\n",
    "import matplotlib.pyplot as plt\n",
    "from matplotlib import cm\n",
    "import seawater\n",
    "#from seawater import dist\n",
    "import seawater as sw\n",
    "import matplotlib.path as mpath\n",
    "from cartopy.util import add_cyclic_point\n",
    "import matplotlib.gridspec as gridspec\n",
    "import matplotlib.ticker as mticker\n",
    "from cartopy.mpl.ticker import (LongitudeFormatter, LatitudeFormatter,\n",
    "                                LatitudeLocator)\n",
    "import random\n",
    "from numba import njit\n",
    "from math import sin, cos, sqrt, atan2, radians\n",
    "from gsw import SA_from_SP\n",
    "from tqdm import tqdm\n",
    "from statsmodels.stats.weightstats import DescrStatsW\n",
    "import math\n"
   ]
  },
  {
   "cell_type": "code",
   "execution_count": 2,
   "id": "8d26b5be-a1c0-4d51-b536-949bc593f94e",
   "metadata": {},
   "outputs": [],
   "source": [
    "#----\n",
    "# goal: make data more easily usable -> reduce file size\n",
    "#    group variables by physics/biogeochemistry/biology\n",
    "#    all variables: type float (not double)\n",
    "#    keep only variables of interest (in original files, there are a lot of \"technical\" variables)\n",
    "#    keep only those floats that are seeded in the open ocean >2000m (8943 floats)\n",
    "#----\n",
    "#\n",
    "# CHECK\n",
    "#   make sure that missing value is correctly defined\n",
    "#   keep all global attributes of original file\n",
    "#"
   ]
  },
  {
   "cell_type": "code",
   "execution_count": 3,
   "id": "cbc915e7-ae0f-47f0-afc8-a8406aa85d2d",
   "metadata": {},
   "outputs": [],
   "source": [
    "#-----\n",
    "# saving data here\n",
    "#-----\n",
    "savepath     = '/global/cfs/cdirs/m4003/cnissen/6year_run/ARCHIVE/'\n",
    "# check existence of paths\n",
    "if not os.path.exists(savepath):\n",
    "    print ('Created '+savepath)\n",
    "    os.makedirs(savepath)\n",
    "    "
   ]
  },
  {
   "cell_type": "code",
   "execution_count": 4,
   "id": "ae579d66-92bb-4cec-a037-6a4862d718c8",
   "metadata": {
    "tags": []
   },
   "outputs": [
    {
     "name": "stdout",
     "output_type": "stream",
     "text": [
      "236853 nodes in mesh\n",
      "(236853,)\n",
      "(236853,)\n",
      "Min/Max lon: 0.0007300572350528742 359.997672445938\n",
      "Min/Max lat: -78.53259417674468 89.94461290099375\n",
      "layerThickness.shape: (1, 236853, 60)\n",
      "restingThickness.shape: (236853, 60)\n",
      "Average below depth level 45 2074.8740234375005\n"
     ]
    }
   ],
   "source": [
    "####\n",
    "# MESH INFO\n",
    "# specifics for trajectory output\n",
    "####\n",
    "\n",
    "rad_to_deg = 180.0/np.pi\n",
    "latlim = -45.0\n",
    "\n",
    "path_mesh = '/global/cfs/cdirs/m4003/maltrud/'\n",
    "meshID = 'EC30to60E2r2'\n",
    "meshfile = xr. open_dataset(path_mesh+'ocean.'+meshID+'.210210.nc')\n",
    "#print(meshfile)\n",
    "\n",
    "lon  = meshfile['lonCell'].values*rad_to_deg\n",
    "lat  = meshfile['latCell'].values*rad_to_deg\n",
    "topo = meshfile['bottomDepth'].values\n",
    "area = meshfile['areaCell'].values\n",
    "zlevs            = meshfile['refBottomDepth'].values\n",
    "layerThickness   = meshfile['layerThickness'].values\n",
    "restingThickness = meshfile['restingThickness'].values\n",
    "\n",
    "print(len(lon),'nodes in mesh')\n",
    "print(topo.shape)\n",
    "print(area.shape)\n",
    "print('Min/Max lon:',np.min(lon),np.max(lon))\n",
    "print('Min/Max lat:',np.min(lat),np.max(lat))\n",
    "print('layerThickness.shape:',layerThickness.shape)\n",
    "print('restingThickness.shape:',restingThickness.shape)\n",
    "\n",
    "meshfile.close()\n",
    "\n",
    "dd1 = np.argmin(np.abs(zlevs-2000))\n",
    "print('Average below depth level',dd1,zlevs[dd1])\n",
    "dz = np.diff(np.hstack((0,zlevs)))[dd1:]\n"
   ]
  },
  {
   "cell_type": "code",
   "execution_count": 5,
   "id": "a102e6e6-2efd-44f6-a432-3fe1fbc38b62",
   "metadata": {},
   "outputs": [
    {
     "name": "stderr",
     "output_type": "stream",
     "text": [
      "100%|██████████| 1/1 [00:00<00:00,  5.32it/s]"
     ]
    },
    {
     "name": "stdout",
     "output_type": "stream",
     "text": [
      "Load year 0055\n",
      "(8739,)\n"
     ]
    },
    {
     "name": "stderr",
     "output_type": "stream",
     "text": [
      "\n"
     ]
    }
   ],
   "source": [
    "#----\n",
    "# determine indices of floats seeded \"deep\"\n",
    "#----\n",
    "# kick out floats in shallow regions (these are not advected I think)\n",
    "ind = np.where(zlevs<=2000)[0] # 2000 or 2200\n",
    "\n",
    "path = '/global/cfs/cdirs/m4003/maltrud/6year/floats/'\n",
    "year_list = ['0055']\n",
    "for yy in tqdm(range(0,1)):\n",
    "    print('Load year '+year_list[yy])\n",
    "    file1 = 'floats.year'+year_list[yy]+'.nc'   \n",
    "    data = xr.open_dataset(path+file1)\n",
    "    no3_1   = data['particleColumnNO3'] #.values \n",
    "\n",
    "    if yy==0:\n",
    "        # those that are not advected have the same position for all time steps; filter by using the first time step\n",
    "        #aux = np.sum(np.isnan(no3_1[0,ind,:]),axis=0) # check if any of the depth levels shallower than 1100m is NaN\n",
    "        #aux = np.sum(1*(no3_1[0,ind,:].values==-1),axis=0)\n",
    "        aux = np.sum(1*(no3_1[0,ind,:]==-1),axis=0)\n",
    "        ind_deep = np.where(aux==0)[0] # if it is, aux is >0; only keep those that are 0\n",
    "        print(ind_deep.shape)\n",
    "        "
   ]
  },
  {
   "cell_type": "code",
   "execution_count": 11,
   "id": "5a1313a4-0018-498b-a39a-c994918aff0d",
   "metadata": {
    "tags": []
   },
   "outputs": [],
   "source": [
    "#--\n",
    "# choose precision of output\n",
    "#--\n",
    "\n",
    "format_data1 = 'f8' # for all variables involved in computation of carbonate chemistry\n",
    "format_data2 = 'f4' # for all others\n"
   ]
  },
  {
   "cell_type": "code",
   "execution_count": 17,
   "id": "26a8bee9-290b-4810-8bb1-bcd82cdcff83",
   "metadata": {
    "tags": []
   },
   "outputs": [
    {
     "name": "stdout",
     "output_type": "stream",
     "text": [
      "Load year 0055\n",
      "Create file /global/cfs/cdirs/m4003/cnissen/6year_run/ARCHIVE/E3SMv2_synthetic_floats_BIOLOGY_year_2012.nc\n"
     ]
    },
    {
     "name": "stderr",
     "output_type": "stream",
     "text": [
      "  0%|          | 0/3 [00:00<?, ?it/s]"
     ]
    },
    {
     "name": "stdout",
     "output_type": "stream",
     "text": [
      "variable: particleColumnTotalPhytoC\n",
      "Precision in output: f4\n"
     ]
    },
    {
     "name": "stderr",
     "output_type": "stream",
     "text": [
      " 33%|███▎      | 1/3 [00:14<00:28, 14.30s/it]"
     ]
    },
    {
     "name": "stdout",
     "output_type": "stream",
     "text": [
      "Saved variable particleColumnTotalPhytoC\n",
      "variable: particleColumnTotalPhytoChl\n",
      "Precision in output: f4\n"
     ]
    },
    {
     "name": "stderr",
     "output_type": "stream",
     "text": [
      " 67%|██████▋   | 2/3 [00:27<00:13, 13.87s/it]"
     ]
    },
    {
     "name": "stdout",
     "output_type": "stream",
     "text": [
      "Saved variable particleColumnTotalPhytoChl\n",
      "variable: particleColumnZooC\n",
      "Precision in output: f4\n"
     ]
    },
    {
     "name": "stderr",
     "output_type": "stream",
     "text": [
      "100%|██████████| 3/3 [00:38<00:00, 12.99s/it]"
     ]
    },
    {
     "name": "stdout",
     "output_type": "stream",
     "text": [
      "Saved variable particleColumnZooC\n",
      "Load year 0056\n"
     ]
    },
    {
     "name": "stderr",
     "output_type": "stream",
     "text": [
      "\n"
     ]
    },
    {
     "name": "stdout",
     "output_type": "stream",
     "text": [
      "Create file /global/cfs/cdirs/m4003/cnissen/6year_run/ARCHIVE/E3SMv2_synthetic_floats_BIOLOGY_year_2013.nc\n"
     ]
    },
    {
     "name": "stderr",
     "output_type": "stream",
     "text": [
      "  0%|          | 0/3 [00:00<?, ?it/s]"
     ]
    },
    {
     "name": "stdout",
     "output_type": "stream",
     "text": [
      "variable: particleColumnTotalPhytoC\n",
      "Precision in output: f4\n"
     ]
    },
    {
     "name": "stderr",
     "output_type": "stream",
     "text": [
      " 33%|███▎      | 1/3 [00:13<00:27, 13.59s/it]"
     ]
    },
    {
     "name": "stdout",
     "output_type": "stream",
     "text": [
      "Saved variable particleColumnTotalPhytoC\n",
      "variable: particleColumnTotalPhytoChl\n",
      "Precision in output: f4\n"
     ]
    },
    {
     "name": "stderr",
     "output_type": "stream",
     "text": [
      " 67%|██████▋   | 2/3 [00:26<00:13, 13.02s/it]"
     ]
    },
    {
     "name": "stdout",
     "output_type": "stream",
     "text": [
      "Saved variable particleColumnTotalPhytoChl\n",
      "variable: particleColumnZooC\n",
      "Precision in output: f4\n"
     ]
    },
    {
     "name": "stderr",
     "output_type": "stream",
     "text": [
      "100%|██████████| 3/3 [00:36<00:00, 12.27s/it]"
     ]
    },
    {
     "name": "stdout",
     "output_type": "stream",
     "text": [
      "Saved variable particleColumnZooC\n",
      "Load year 0057\n"
     ]
    },
    {
     "name": "stderr",
     "output_type": "stream",
     "text": [
      "\n"
     ]
    },
    {
     "name": "stdout",
     "output_type": "stream",
     "text": [
      "Create file /global/cfs/cdirs/m4003/cnissen/6year_run/ARCHIVE/E3SMv2_synthetic_floats_BIOLOGY_year_2014.nc\n"
     ]
    },
    {
     "name": "stderr",
     "output_type": "stream",
     "text": [
      "  0%|          | 0/3 [00:00<?, ?it/s]"
     ]
    },
    {
     "name": "stdout",
     "output_type": "stream",
     "text": [
      "variable: particleColumnTotalPhytoC\n",
      "Precision in output: f4\n"
     ]
    },
    {
     "name": "stderr",
     "output_type": "stream",
     "text": [
      " 33%|███▎      | 1/3 [00:12<00:25, 12.93s/it]"
     ]
    },
    {
     "name": "stdout",
     "output_type": "stream",
     "text": [
      "Saved variable particleColumnTotalPhytoC\n",
      "variable: particleColumnTotalPhytoChl\n",
      "Precision in output: f4\n"
     ]
    },
    {
     "name": "stderr",
     "output_type": "stream",
     "text": [
      " 67%|██████▋   | 2/3 [00:25<00:12, 12.52s/it]"
     ]
    },
    {
     "name": "stdout",
     "output_type": "stream",
     "text": [
      "Saved variable particleColumnTotalPhytoChl\n",
      "variable: particleColumnZooC\n",
      "Precision in output: f4\n"
     ]
    },
    {
     "name": "stderr",
     "output_type": "stream",
     "text": [
      "100%|██████████| 3/3 [00:34<00:00, 11.54s/it]"
     ]
    },
    {
     "name": "stdout",
     "output_type": "stream",
     "text": [
      "Saved variable particleColumnZooC\n",
      "Load year 0058\n"
     ]
    },
    {
     "name": "stderr",
     "output_type": "stream",
     "text": [
      "\n"
     ]
    },
    {
     "name": "stdout",
     "output_type": "stream",
     "text": [
      "Create file /global/cfs/cdirs/m4003/cnissen/6year_run/ARCHIVE/E3SMv2_synthetic_floats_BIOLOGY_year_2015.nc\n"
     ]
    },
    {
     "name": "stderr",
     "output_type": "stream",
     "text": [
      "  0%|          | 0/3 [00:00<?, ?it/s]"
     ]
    },
    {
     "name": "stdout",
     "output_type": "stream",
     "text": [
      "variable: particleColumnTotalPhytoC\n",
      "Precision in output: f4\n"
     ]
    },
    {
     "name": "stderr",
     "output_type": "stream",
     "text": [
      " 33%|███▎      | 1/3 [00:12<00:25, 12.62s/it]"
     ]
    },
    {
     "name": "stdout",
     "output_type": "stream",
     "text": [
      "Saved variable particleColumnTotalPhytoC\n",
      "variable: particleColumnTotalPhytoChl\n",
      "Precision in output: f4\n"
     ]
    },
    {
     "name": "stderr",
     "output_type": "stream",
     "text": [
      " 67%|██████▋   | 2/3 [00:25<00:12, 12.95s/it]"
     ]
    },
    {
     "name": "stdout",
     "output_type": "stream",
     "text": [
      "Saved variable particleColumnTotalPhytoChl\n",
      "variable: particleColumnZooC\n",
      "Precision in output: f4\n"
     ]
    },
    {
     "name": "stderr",
     "output_type": "stream",
     "text": [
      "100%|██████████| 3/3 [00:35<00:00, 11.88s/it]"
     ]
    },
    {
     "name": "stdout",
     "output_type": "stream",
     "text": [
      "Saved variable particleColumnZooC\n",
      "Load year 0059\n"
     ]
    },
    {
     "name": "stderr",
     "output_type": "stream",
     "text": [
      "\n"
     ]
    },
    {
     "name": "stdout",
     "output_type": "stream",
     "text": [
      "Create file /global/cfs/cdirs/m4003/cnissen/6year_run/ARCHIVE/E3SMv2_synthetic_floats_BIOLOGY_year_2016.nc\n"
     ]
    },
    {
     "name": "stderr",
     "output_type": "stream",
     "text": [
      "  0%|          | 0/3 [00:00<?, ?it/s]"
     ]
    },
    {
     "name": "stdout",
     "output_type": "stream",
     "text": [
      "variable: particleColumnTotalPhytoC\n",
      "Precision in output: f4\n"
     ]
    },
    {
     "name": "stderr",
     "output_type": "stream",
     "text": [
      " 33%|███▎      | 1/3 [00:12<00:25, 12.75s/it]"
     ]
    },
    {
     "name": "stdout",
     "output_type": "stream",
     "text": [
      "Saved variable particleColumnTotalPhytoC\n",
      "variable: particleColumnTotalPhytoChl\n",
      "Precision in output: f4\n"
     ]
    },
    {
     "name": "stderr",
     "output_type": "stream",
     "text": [
      " 67%|██████▋   | 2/3 [00:25<00:12, 12.80s/it]"
     ]
    },
    {
     "name": "stdout",
     "output_type": "stream",
     "text": [
      "Saved variable particleColumnTotalPhytoChl\n",
      "variable: particleColumnZooC\n",
      "Precision in output: f4\n"
     ]
    },
    {
     "name": "stderr",
     "output_type": "stream",
     "text": [
      "100%|██████████| 3/3 [00:36<00:00, 12.04s/it]"
     ]
    },
    {
     "name": "stdout",
     "output_type": "stream",
     "text": [
      "Saved variable particleColumnZooC\n",
      "Load year 0060\n"
     ]
    },
    {
     "name": "stderr",
     "output_type": "stream",
     "text": [
      "\n"
     ]
    },
    {
     "name": "stdout",
     "output_type": "stream",
     "text": [
      "Create file /global/cfs/cdirs/m4003/cnissen/6year_run/ARCHIVE/E3SMv2_synthetic_floats_BIOLOGY_year_2017.nc\n"
     ]
    },
    {
     "name": "stderr",
     "output_type": "stream",
     "text": [
      "  0%|          | 0/3 [00:00<?, ?it/s]"
     ]
    },
    {
     "name": "stdout",
     "output_type": "stream",
     "text": [
      "variable: particleColumnTotalPhytoC\n",
      "Precision in output: f4\n"
     ]
    },
    {
     "name": "stderr",
     "output_type": "stream",
     "text": [
      " 33%|███▎      | 1/3 [00:12<00:24, 12.46s/it]"
     ]
    },
    {
     "name": "stdout",
     "output_type": "stream",
     "text": [
      "Saved variable particleColumnTotalPhytoC\n",
      "variable: particleColumnTotalPhytoChl\n",
      "Precision in output: f4\n"
     ]
    },
    {
     "name": "stderr",
     "output_type": "stream",
     "text": [
      " 67%|██████▋   | 2/3 [00:25<00:12, 12.52s/it]"
     ]
    },
    {
     "name": "stdout",
     "output_type": "stream",
     "text": [
      "Saved variable particleColumnTotalPhytoChl\n",
      "variable: particleColumnZooC\n",
      "Precision in output: f4\n"
     ]
    },
    {
     "name": "stderr",
     "output_type": "stream",
     "text": [
      "100%|██████████| 3/3 [00:35<00:00, 11.71s/it]"
     ]
    },
    {
     "name": "stdout",
     "output_type": "stream",
     "text": [
      "Saved variable particleColumnZooC\n",
      "done\n"
     ]
    },
    {
     "name": "stderr",
     "output_type": "stream",
     "text": [
      "\n"
     ]
    }
   ],
   "source": [
    "#----\n",
    "# load daily float output -> PHYSICS, BIOLOGY or BIOGEOCHEMISTRY\n",
    "#----\n",
    "\n",
    "process_floats = False\n",
    "\n",
    "save_netcdf = False\n",
    "\n",
    "vari_string = 'BIOLOGY' # PHYSICS, BIOGEOCHEMISTRY, BIOLOGY\n",
    "\n",
    "vari_list_phys = ['particleColumnTemperature','particleColumnSalinity','particleColumnVelMerid','particleColumnVelZonal',\\\n",
    "            'particle_MLD','particle_ifrac','particle_atmPressure']\n",
    "\n",
    "vari_list_bio = ['particleColumnTotalPhytoC','particleColumnTotalPhytoChl','particleColumnZooC']\n",
    "\n",
    "vari_list_bgc = ['particleColumnDIC','particleColumnALK','particleColumnNO3','particleColumnPO4','particleColumnSiO3',\\\n",
    "                'particleColumnO2','particleColumnO2_Consumption','particleColumnO2_Production',\\\n",
    "                'particle_CO2_gas_flux','particle_O2_gas_flux','particle_pCO2surface','particle_atmosphericCO2',\\\n",
    "                'particle_dpCO2']\n",
    "\n",
    "list_2D_var = ['particle_MLD','particle_ifrac','particle_atmPressure',\\\n",
    "              'particle_CO2_gas_flux','particle_O2_gas_flux','particle_pCO2surface','particle_atmosphericCO2',\\\n",
    "                'particle_dpCO2']\n",
    "\n",
    "list_vari_carbonate = ['particleColumnTemperature','particleColumnSalinity','particle_atmPressure',\\\n",
    "                        'particleColumnDIC','particleColumnALK','particleColumnPO4','particleColumnSiO3']\n",
    "\n",
    "if vari_string in ['PHYSICS']:\n",
    "    vari_string2 = 'physical'\n",
    "    var_list = np.copy(vari_list_phys)\n",
    "elif vari_string in ['BIOGEOCHEMISTRY']:\n",
    "    vari_string2 = 'biogeochemical'\n",
    "    var_list = np.copy(vari_list_bgc)\n",
    "elif vari_string in ['BIOLOGY']:\n",
    "    vari_string2 = 'biological'\n",
    "    var_list = np.copy(vari_list_bio)\n",
    "\n",
    "# needed for lat/lon in model\n",
    "rad_to_deg = 180.0/np.pi\n",
    "\n",
    "path = '/global/cfs/cdirs/m4003/maltrud/6year/floats/'\n",
    "year_list  = ['0055','0056','0057','0058','0059','0060']\n",
    "year_list2 = ['2012','2013','2014','2015','2016','2017']\n",
    "\n",
    "if process_floats:\n",
    "    for yy in range(0,len(year_list)):\n",
    "        print('Load year '+year_list[yy])\n",
    "\n",
    "        file1 =  'floats.year'+year_list[yy]+'.nc'  \n",
    "        ff = xr.open_dataset(path+file1)\n",
    "\n",
    "        lon_1   = ff['particleColumnLon'] #.values*rad_to_deg \n",
    "        lat_1   = ff['particleColumnLat'] #.values*rad_to_deg \n",
    "        lat_all = lat_1[:,0,:].values*rad_to_deg \n",
    "        lon_all = lon_1[:,0,:].values*rad_to_deg \n",
    "        # the part below is just to make sure there is no random zeros in the fields...\n",
    "        lat_all[lat_all==0]=np.nan\n",
    "        lon_all[lon_all==0]=np.nan\n",
    "        # reduce to floats seeded in \"deep\" waters\n",
    "        lat_all  = lat_all[:,ind_deep]\n",
    "        lon_all  = lon_all[:,ind_deep]\n",
    "        del lon_1,lat_1\n",
    "\n",
    "        #---\n",
    "        # create netcdf\n",
    "        # add dimensions\n",
    "        #---\n",
    "        if save_netcdf:\n",
    "            netcdf_name       = 'E3SMv2_synthetic_floats_'+vari_string+'_year_'+str(year_list2[yy])+'.nc' \n",
    "            script = '/global/homes/c/cnissen/scripts/plot_floats_E3SM_ARCHIVE_GMD_paper.ipynb'\n",
    "            if not os.path.exists(savepath+netcdf_name):\n",
    "                print ('Create file '+savepath+netcdf_name)\n",
    "                w_nc_fid = Dataset(savepath+netcdf_name, 'w', format='NETCDF4_CLASSIC')\n",
    "                # global arguments\n",
    "                w_nc_fid.info = 'File containing all '+vari_string2+\\\n",
    "                        ' variables from synthetic floats in E3SMv2 for the year '+str(year_list2[yy])\n",
    "                w_nc_fid.contact = 'cara.nissen@colorado.edu or nicole.lovenduski@colorado.edu or maltrud@lanl.gov'\n",
    "                w_nc_fid.original_file = path+file1\n",
    "                w_nc_fid.script = script\n",
    "                w_nc_fid.meshfile = 'Mesh file underlying the seeding: '+path_mesh+'ocean.'+meshID+'.210210.nc'\n",
    "                # create dimensions\n",
    "                w_nc_fid.createDimension('nParticles', lon_all.shape[1]) \n",
    "                w_nc_fid.createDimension('nVertLevels', len(zlevs)) \n",
    "                w_nc_fid.createDimension('Time', lon_all.shape[0]) \n",
    "                # create variables for dimensions\n",
    "                w_nc_var1 = w_nc_fid.createVariable('nVertLevels', format_data2,('nVertLevels'))\n",
    "                w_nc_var1.note = 'bottom of vertical levels in m sampled by each float'\n",
    "                w_nc_var1 = w_nc_fid.createVariable('Time', format_data2,('Time'))\n",
    "                w_nc_var1.note = 'Day of the year (sampling at midnight GMT on each day)'\n",
    "                w_nc_var1 = w_nc_fid.createVariable('lat', format_data2,('nParticles','Time'))\n",
    "                w_nc_var1.note = 'Latitude in deg N at sampling'\n",
    "                w_nc_var1 = w_nc_fid.createVariable('lon', format_data,('nParticles','Time'))\n",
    "                w_nc_var1.note = 'Longitude in deg E at sampling (0-360°)'\n",
    "                # fill dimension variables\n",
    "                w_nc_fid.variables['nVertLevels'][:] = zlevs\n",
    "                w_nc_fid.variables['Time'][:] = np.arange(1,lon_all.shape[0]+1)\n",
    "                w_nc_fid.variables['lat'][:,:] = lat_all.transpose()\n",
    "                w_nc_fid.variables['lon'][:,:] = lon_all.transpose()\n",
    "                w_nc_fid.close()\n",
    "            else:\n",
    "                print ('File '+savepath+netcdf_name+' exists already, overwrite')\n",
    "\n",
    "        for vv in tqdm(range(0,len(var_list))):\n",
    "            print('variable: '+var_list[vv])\n",
    "\n",
    "            data1 = ff[var_list[vv]]\n",
    "            var_units = data1.attrs['units']\n",
    "            long_name = data1.attrs['long_name']\n",
    "            data_all = data1.values\n",
    "            del data1\n",
    "\n",
    "            ## set missing values to NaN (deep ocean layers) \n",
    "            data_all[data_all==-1]=np.nan\n",
    "            # the part below is just to make sure there is no random zeros in the fields...\n",
    "            data_all[data_all==0]=np.nan\n",
    "            # reduce to floats seeded in \"deep\" waters\n",
    "            if var_list[vv] in list_2D_var:\n",
    "                data_all = data_all[:,ind_deep]\n",
    "            else:\n",
    "                data_all = data_all[:,:,ind_deep]\n",
    "\n",
    "            #---\n",
    "            # add variable to netcdf\n",
    "            #---\n",
    "            fv = -999\n",
    "            if save_netcdf:\n",
    "                w_nc_fid  = Dataset(savepath+netcdf_name, 'r+', format='NETCDF4_CLASSIC')   \n",
    "                if var_list[vv] in list_vari_carbonate:\n",
    "                    format_data = format_data1 # double precision\n",
    "                else:\n",
    "                    format_data = format_data2 # single precision\n",
    "                print('Precision in output:',format_data)\n",
    "                if var_list[vv] in list_2D_var:\n",
    "                    w_nc_var1 = w_nc_fid.createVariable(var_list[vv], format_data,('nParticles','Time'),fill_value=fv)\n",
    "                else:\n",
    "                    w_nc_var1 = w_nc_fid.createVariable(var_list[vv], format_data,('nParticles','nVertLevels','Time'),fill_value=fv)\n",
    "                w_nc_var1.units     = var_units\n",
    "                w_nc_var1.long_name = long_name\n",
    "                data_all[np.isnan(data_all)] = fv\n",
    "                # write field\n",
    "                if var_list[vv] in list_2D_var:\n",
    "                    w_nc_fid.variables[var_list[vv]][:,:] = np.transpose(data_all,[1,0])\n",
    "                else:\n",
    "                    w_nc_fid.variables[var_list[vv]][:,:,:] = np.transpose(data_all,[2,1,0])\n",
    "                w_nc_fid.close()\n",
    "                print('Saved variable',var_list[vv])\n",
    "\n",
    "            del data_all\n",
    "        ff.close()\n",
    "        del lon_all,lat_all\n",
    "\n",
    "    print ('done')\n"
   ]
  },
  {
   "cell_type": "code",
   "execution_count": null,
   "id": "f55198b2-475d-4df5-970d-2fad231b6d0a",
   "metadata": {
    "tags": []
   },
   "outputs": [],
   "source": [
    "print(lon.shape)"
   ]
  },
  {
   "cell_type": "code",
   "execution_count": null,
   "id": "1dfa0c41-4e5a-4e8c-a898-9df30ca16d23",
   "metadata": {
    "tags": []
   },
   "outputs": [],
   "source": [
    "#----\n",
    "# EULERIAN OUTPUT, MONTHLY\n",
    "#----"
   ]
  },
  {
   "cell_type": "code",
   "execution_count": 20,
   "id": "ee4905b2-5aac-404f-b803-422332bdbdce",
   "metadata": {},
   "outputs": [
    {
     "name": "stdout",
     "output_type": "stream",
     "text": [
      "Load year 0055\n",
      "Create file /global/cfs/cdirs/m4003/cnissen/6year_run/ARCHIVE/E3SMv2_Eulerian_output_monthly_BIOGEOCHEMISTRY_year_2012.nc\n"
     ]
    },
    {
     "name": "stderr",
     "output_type": "stream",
     "text": [
      "  0%|          | 0/13 [00:00<?, ?it/s]"
     ]
    },
    {
     "name": "stdout",
     "output_type": "stream",
     "text": [
      "variable: timeMonthly_avg_ecosysTracers_DIC\n",
      "Precision in output: f8\n"
     ]
    },
    {
     "name": "stderr",
     "output_type": "stream",
     "text": [
      "  8%|▊         | 1/13 [00:04<00:55,  4.59s/it]"
     ]
    },
    {
     "name": "stdout",
     "output_type": "stream",
     "text": [
      "Saved variable timeMonthly_avg_ecosysTracers_DIC\n",
      "variable: timeMonthly_avg_ecosysTracers_ALK\n",
      "Precision in output: f8\n"
     ]
    },
    {
     "name": "stderr",
     "output_type": "stream",
     "text": [
      " 15%|█▌        | 2/13 [00:07<00:41,  3.76s/it]"
     ]
    },
    {
     "name": "stdout",
     "output_type": "stream",
     "text": [
      "Saved variable timeMonthly_avg_ecosysTracers_ALK\n",
      "variable: timeMonthly_avg_ecosysTracers_NO3\n",
      "Precision in output: f4\n"
     ]
    },
    {
     "name": "stderr",
     "output_type": "stream",
     "text": [
      " 23%|██▎       | 3/13 [00:09<00:30,  3.00s/it]"
     ]
    },
    {
     "name": "stdout",
     "output_type": "stream",
     "text": [
      "Saved variable timeMonthly_avg_ecosysTracers_NO3\n",
      "variable: timeMonthly_avg_ecosysTracers_PO4\n",
      "Precision in output: f8\n"
     ]
    },
    {
     "name": "stderr",
     "output_type": "stream",
     "text": [
      " 31%|███       | 4/13 [00:13<00:30,  3.37s/it]"
     ]
    },
    {
     "name": "stdout",
     "output_type": "stream",
     "text": [
      "Saved variable timeMonthly_avg_ecosysTracers_PO4\n",
      "variable: timeMonthly_avg_ecosysTracers_SiO3\n",
      "Precision in output: f8\n"
     ]
    },
    {
     "name": "stderr",
     "output_type": "stream",
     "text": [
      " 38%|███▊      | 5/13 [00:17<00:27,  3.40s/it]"
     ]
    },
    {
     "name": "stdout",
     "output_type": "stream",
     "text": [
      "Saved variable timeMonthly_avg_ecosysTracers_SiO3\n",
      "variable: timeMonthly_avg_ecosysTracers_O2\n",
      "Precision in output: f4\n"
     ]
    },
    {
     "name": "stderr",
     "output_type": "stream",
     "text": [
      " 46%|████▌     | 6/13 [00:20<00:22,  3.27s/it]"
     ]
    },
    {
     "name": "stdout",
     "output_type": "stream",
     "text": [
      "Saved variable timeMonthly_avg_ecosysTracers_O2\n",
      "variable: timeMonthly_avg_ecosys_diag_O2_CONSUMPTION\n",
      "Precision in output: f4\n"
     ]
    },
    {
     "name": "stderr",
     "output_type": "stream",
     "text": [
      " 54%|█████▍    | 7/13 [00:23<00:19,  3.26s/it]"
     ]
    },
    {
     "name": "stdout",
     "output_type": "stream",
     "text": [
      "Saved variable timeMonthly_avg_ecosys_diag_O2_CONSUMPTION\n",
      "variable: timeMonthly_avg_ecosys_diag_O2_PRODUCTION\n",
      "Precision in output: f4\n"
     ]
    },
    {
     "name": "stderr",
     "output_type": "stream",
     "text": [
      " 69%|██████▉   | 9/13 [00:25<00:08,  2.07s/it]"
     ]
    },
    {
     "name": "stdout",
     "output_type": "stream",
     "text": [
      "Saved variable timeMonthly_avg_ecosys_diag_O2_PRODUCTION\n",
      "variable: timeMonthly_avg_CO2_gas_flux\n",
      "Precision in output: f4\n",
      "Saved variable timeMonthly_avg_CO2_gas_flux\n",
      "variable: timeMonthly_avg_ecosysTracersSurfaceFlux_O2SurfaceFlux\n",
      "Precision in output: f4\n"
     ]
    },
    {
     "name": "stderr",
     "output_type": "stream",
     "text": [
      " 85%|████████▍ | 11/13 [00:26<00:02,  1.13s/it]"
     ]
    },
    {
     "name": "stdout",
     "output_type": "stream",
     "text": [
      "Saved variable timeMonthly_avg_ecosysTracersSurfaceFlux_O2SurfaceFlux\n",
      "variable: timeMonthly_avg_ecosys_diag_pCO2surface\n",
      "Precision in output: f4\n",
      "Saved variable timeMonthly_avg_ecosys_diag_pCO2surface\n",
      "variable: timeMonthly_avg_atmosphericCO2\n",
      "Precision in output: f4\n",
      "Saved variable timeMonthly_avg_atmosphericCO2\n",
      "variable: timeMonthly_avg_ecosys_diag_dpCO2\n",
      "Precision in output: f4\n"
     ]
    },
    {
     "name": "stderr",
     "output_type": "stream",
     "text": [
      "100%|██████████| 13/13 [00:26<00:00,  2.02s/it]\n"
     ]
    },
    {
     "name": "stdout",
     "output_type": "stream",
     "text": [
      "Saved variable timeMonthly_avg_ecosys_diag_dpCO2\n",
      "Load year 0056\n",
      "Create file /global/cfs/cdirs/m4003/cnissen/6year_run/ARCHIVE/E3SMv2_Eulerian_output_monthly_BIOGEOCHEMISTRY_year_2013.nc\n"
     ]
    },
    {
     "name": "stderr",
     "output_type": "stream",
     "text": [
      "  0%|          | 0/13 [00:00<?, ?it/s]"
     ]
    },
    {
     "name": "stdout",
     "output_type": "stream",
     "text": [
      "variable: timeMonthly_avg_ecosysTracers_DIC\n",
      "Precision in output: f8\n"
     ]
    },
    {
     "name": "stderr",
     "output_type": "stream",
     "text": [
      "  8%|▊         | 1/13 [00:04<00:48,  4.03s/it]"
     ]
    },
    {
     "name": "stdout",
     "output_type": "stream",
     "text": [
      "Saved variable timeMonthly_avg_ecosysTracers_DIC\n",
      "variable: timeMonthly_avg_ecosysTracers_ALK\n",
      "Precision in output: f8\n"
     ]
    },
    {
     "name": "stderr",
     "output_type": "stream",
     "text": [
      " 15%|█▌        | 2/13 [00:07<00:41,  3.79s/it]"
     ]
    },
    {
     "name": "stdout",
     "output_type": "stream",
     "text": [
      "Saved variable timeMonthly_avg_ecosysTracers_ALK\n",
      "variable: timeMonthly_avg_ecosysTracers_NO3\n",
      "Precision in output: f4\n"
     ]
    },
    {
     "name": "stderr",
     "output_type": "stream",
     "text": [
      " 23%|██▎       | 3/13 [00:09<00:30,  3.10s/it]"
     ]
    },
    {
     "name": "stdout",
     "output_type": "stream",
     "text": [
      "Saved variable timeMonthly_avg_ecosysTracers_NO3\n",
      "variable: timeMonthly_avg_ecosysTracers_PO4\n",
      "Precision in output: f8\n"
     ]
    },
    {
     "name": "stderr",
     "output_type": "stream",
     "text": [
      " 31%|███       | 4/13 [00:14<00:31,  3.52s/it]"
     ]
    },
    {
     "name": "stdout",
     "output_type": "stream",
     "text": [
      "Saved variable timeMonthly_avg_ecosysTracers_PO4\n",
      "variable: timeMonthly_avg_ecosysTracers_SiO3\n",
      "Precision in output: f8\n"
     ]
    },
    {
     "name": "stderr",
     "output_type": "stream",
     "text": [
      " 38%|███▊      | 5/13 [00:17<00:27,  3.44s/it]"
     ]
    },
    {
     "name": "stdout",
     "output_type": "stream",
     "text": [
      "Saved variable timeMonthly_avg_ecosysTracers_SiO3\n",
      "variable: timeMonthly_avg_ecosysTracers_O2\n",
      "Precision in output: f4\n"
     ]
    },
    {
     "name": "stderr",
     "output_type": "stream",
     "text": [
      " 46%|████▌     | 6/13 [00:19<00:21,  3.07s/it]"
     ]
    },
    {
     "name": "stdout",
     "output_type": "stream",
     "text": [
      "Saved variable timeMonthly_avg_ecosysTracers_O2\n",
      "variable: timeMonthly_avg_ecosys_diag_O2_CONSUMPTION\n",
      "Precision in output: f4\n"
     ]
    },
    {
     "name": "stderr",
     "output_type": "stream",
     "text": [
      " 54%|█████▍    | 7/13 [00:22<00:18,  3.06s/it]"
     ]
    },
    {
     "name": "stdout",
     "output_type": "stream",
     "text": [
      "Saved variable timeMonthly_avg_ecosys_diag_O2_CONSUMPTION\n",
      "variable: timeMonthly_avg_ecosys_diag_O2_PRODUCTION\n",
      "Precision in output: f4\n"
     ]
    },
    {
     "name": "stderr",
     "output_type": "stream",
     "text": [
      " 77%|███████▋  | 10/13 [00:25<00:04,  1.58s/it]"
     ]
    },
    {
     "name": "stdout",
     "output_type": "stream",
     "text": [
      "Saved variable timeMonthly_avg_ecosys_diag_O2_PRODUCTION\n",
      "variable: timeMonthly_avg_CO2_gas_flux\n",
      "Precision in output: f4\n",
      "Saved variable timeMonthly_avg_CO2_gas_flux\n",
      "variable: timeMonthly_avg_ecosysTracersSurfaceFlux_O2SurfaceFlux\n",
      "Precision in output: f4\n",
      "Saved variable timeMonthly_avg_ecosysTracersSurfaceFlux_O2SurfaceFlux\n",
      "variable: timeMonthly_avg_ecosys_diag_pCO2surface\n"
     ]
    },
    {
     "name": "stderr",
     "output_type": "stream",
     "text": [
      " 85%|████████▍ | 11/13 [00:25<00:02,  1.20s/it]"
     ]
    },
    {
     "name": "stdout",
     "output_type": "stream",
     "text": [
      "Precision in output: f4\n",
      "Saved variable timeMonthly_avg_ecosys_diag_pCO2surface\n",
      "variable: timeMonthly_avg_atmosphericCO2\n",
      "Precision in output: f4\n",
      "Saved variable timeMonthly_avg_atmosphericCO2\n",
      "variable: timeMonthly_avg_ecosys_diag_dpCO2\n",
      "Precision in output: f4\n"
     ]
    },
    {
     "name": "stderr",
     "output_type": "stream",
     "text": [
      "100%|██████████| 13/13 [00:25<00:00,  1.99s/it]\n"
     ]
    },
    {
     "name": "stdout",
     "output_type": "stream",
     "text": [
      "Saved variable timeMonthly_avg_ecosys_diag_dpCO2\n",
      "Load year 0057\n",
      "Create file /global/cfs/cdirs/m4003/cnissen/6year_run/ARCHIVE/E3SMv2_Eulerian_output_monthly_BIOGEOCHEMISTRY_year_2014.nc\n"
     ]
    },
    {
     "name": "stderr",
     "output_type": "stream",
     "text": [
      "  0%|          | 0/13 [00:00<?, ?it/s]"
     ]
    },
    {
     "name": "stdout",
     "output_type": "stream",
     "text": [
      "variable: timeMonthly_avg_ecosysTracers_DIC\n",
      "Precision in output: f8\n"
     ]
    },
    {
     "name": "stderr",
     "output_type": "stream",
     "text": [
      "  8%|▊         | 1/13 [00:04<00:50,  4.20s/it]"
     ]
    },
    {
     "name": "stdout",
     "output_type": "stream",
     "text": [
      "Saved variable timeMonthly_avg_ecosysTracers_DIC\n",
      "variable: timeMonthly_avg_ecosysTracers_ALK\n",
      "Precision in output: f8\n"
     ]
    },
    {
     "name": "stderr",
     "output_type": "stream",
     "text": [
      " 15%|█▌        | 2/13 [00:07<00:41,  3.78s/it]"
     ]
    },
    {
     "name": "stdout",
     "output_type": "stream",
     "text": [
      "Saved variable timeMonthly_avg_ecosysTracers_ALK\n",
      "variable: timeMonthly_avg_ecosysTracers_NO3\n",
      "Precision in output: f4\n"
     ]
    },
    {
     "name": "stderr",
     "output_type": "stream",
     "text": [
      " 23%|██▎       | 3/13 [00:09<00:30,  3.08s/it]"
     ]
    },
    {
     "name": "stdout",
     "output_type": "stream",
     "text": [
      "Saved variable timeMonthly_avg_ecosysTracers_NO3\n",
      "variable: timeMonthly_avg_ecosysTracers_PO4\n",
      "Precision in output: f8\n"
     ]
    },
    {
     "name": "stderr",
     "output_type": "stream",
     "text": [
      " 31%|███       | 4/13 [00:14<00:33,  3.70s/it]"
     ]
    },
    {
     "name": "stdout",
     "output_type": "stream",
     "text": [
      "Saved variable timeMonthly_avg_ecosysTracers_PO4\n",
      "variable: timeMonthly_avg_ecosysTracers_SiO3\n",
      "Precision in output: f8\n"
     ]
    },
    {
     "name": "stderr",
     "output_type": "stream",
     "text": [
      " 38%|███▊      | 5/13 [00:18<00:28,  3.61s/it]"
     ]
    },
    {
     "name": "stdout",
     "output_type": "stream",
     "text": [
      "Saved variable timeMonthly_avg_ecosysTracers_SiO3\n",
      "variable: timeMonthly_avg_ecosysTracers_O2\n",
      "Precision in output: f4\n"
     ]
    },
    {
     "name": "stderr",
     "output_type": "stream",
     "text": [
      " 46%|████▌     | 6/13 [00:20<00:21,  3.14s/it]"
     ]
    },
    {
     "name": "stdout",
     "output_type": "stream",
     "text": [
      "Saved variable timeMonthly_avg_ecosysTracers_O2\n",
      "variable: timeMonthly_avg_ecosys_diag_O2_CONSUMPTION\n",
      "Precision in output: f4\n"
     ]
    },
    {
     "name": "stderr",
     "output_type": "stream",
     "text": [
      " 54%|█████▍    | 7/13 [00:22<00:17,  2.94s/it]"
     ]
    },
    {
     "name": "stdout",
     "output_type": "stream",
     "text": [
      "Saved variable timeMonthly_avg_ecosys_diag_O2_CONSUMPTION\n",
      "variable: timeMonthly_avg_ecosys_diag_O2_PRODUCTION\n",
      "Precision in output: f4\n"
     ]
    },
    {
     "name": "stderr",
     "output_type": "stream",
     "text": [
      " 69%|██████▉   | 9/13 [00:25<00:07,  1.92s/it]"
     ]
    },
    {
     "name": "stdout",
     "output_type": "stream",
     "text": [
      "Saved variable timeMonthly_avg_ecosys_diag_O2_PRODUCTION\n",
      "variable: timeMonthly_avg_CO2_gas_flux\n",
      "Precision in output: f4\n",
      "Saved variable timeMonthly_avg_CO2_gas_flux\n",
      "variable: timeMonthly_avg_ecosysTracersSurfaceFlux_O2SurfaceFlux\n",
      "Precision in output: f4\n"
     ]
    },
    {
     "name": "stderr",
     "output_type": "stream",
     "text": [
      " 92%|█████████▏| 12/13 [00:25<00:00,  1.30it/s]"
     ]
    },
    {
     "name": "stdout",
     "output_type": "stream",
     "text": [
      "Saved variable timeMonthly_avg_ecosysTracersSurfaceFlux_O2SurfaceFlux\n",
      "variable: timeMonthly_avg_ecosys_diag_pCO2surface\n",
      "Precision in output: f4\n",
      "Saved variable timeMonthly_avg_ecosys_diag_pCO2surface\n",
      "variable: timeMonthly_avg_atmosphericCO2\n",
      "Precision in output: f4\n",
      "Saved variable timeMonthly_avg_atmosphericCO2\n",
      "variable: timeMonthly_avg_ecosys_diag_dpCO2\n",
      "Precision in output: f4\n"
     ]
    },
    {
     "name": "stderr",
     "output_type": "stream",
     "text": [
      "100%|██████████| 13/13 [00:25<00:00,  1.99s/it]"
     ]
    },
    {
     "name": "stdout",
     "output_type": "stream",
     "text": [
      "Saved variable timeMonthly_avg_ecosys_diag_dpCO2\n",
      "Load year 0058\n"
     ]
    },
    {
     "name": "stderr",
     "output_type": "stream",
     "text": [
      "\n"
     ]
    },
    {
     "name": "stdout",
     "output_type": "stream",
     "text": [
      "Create file /global/cfs/cdirs/m4003/cnissen/6year_run/ARCHIVE/E3SMv2_Eulerian_output_monthly_BIOGEOCHEMISTRY_year_2015.nc\n"
     ]
    },
    {
     "name": "stderr",
     "output_type": "stream",
     "text": [
      "  0%|          | 0/13 [00:00<?, ?it/s]"
     ]
    },
    {
     "name": "stdout",
     "output_type": "stream",
     "text": [
      "variable: timeMonthly_avg_ecosysTracers_DIC\n",
      "Precision in output: f8\n"
     ]
    },
    {
     "name": "stderr",
     "output_type": "stream",
     "text": [
      "  8%|▊         | 1/13 [00:04<00:51,  4.33s/it]"
     ]
    },
    {
     "name": "stdout",
     "output_type": "stream",
     "text": [
      "Saved variable timeMonthly_avg_ecosysTracers_DIC\n",
      "variable: timeMonthly_avg_ecosysTracers_ALK\n",
      "Precision in output: f8\n"
     ]
    },
    {
     "name": "stderr",
     "output_type": "stream",
     "text": [
      " 15%|█▌        | 2/13 [00:07<00:41,  3.79s/it]"
     ]
    },
    {
     "name": "stdout",
     "output_type": "stream",
     "text": [
      "Saved variable timeMonthly_avg_ecosysTracers_ALK\n",
      "variable: timeMonthly_avg_ecosysTracers_NO3\n",
      "Precision in output: f4\n"
     ]
    },
    {
     "name": "stderr",
     "output_type": "stream",
     "text": [
      " 23%|██▎       | 3/13 [00:09<00:30,  3.08s/it]"
     ]
    },
    {
     "name": "stdout",
     "output_type": "stream",
     "text": [
      "Saved variable timeMonthly_avg_ecosysTracers_NO3\n",
      "variable: timeMonthly_avg_ecosysTracers_PO4\n",
      "Precision in output: f8\n"
     ]
    },
    {
     "name": "stderr",
     "output_type": "stream",
     "text": [
      " 31%|███       | 4/13 [00:14<00:31,  3.54s/it]"
     ]
    },
    {
     "name": "stdout",
     "output_type": "stream",
     "text": [
      "Saved variable timeMonthly_avg_ecosysTracers_PO4\n",
      "variable: timeMonthly_avg_ecosysTracers_SiO3\n",
      "Precision in output: f8\n"
     ]
    },
    {
     "name": "stderr",
     "output_type": "stream",
     "text": [
      " 38%|███▊      | 5/13 [00:17<00:28,  3.60s/it]"
     ]
    },
    {
     "name": "stdout",
     "output_type": "stream",
     "text": [
      "Saved variable timeMonthly_avg_ecosysTracers_SiO3\n",
      "variable: timeMonthly_avg_ecosysTracers_O2\n",
      "Precision in output: f4\n"
     ]
    },
    {
     "name": "stderr",
     "output_type": "stream",
     "text": [
      " 46%|████▌     | 6/13 [00:20<00:21,  3.14s/it]"
     ]
    },
    {
     "name": "stdout",
     "output_type": "stream",
     "text": [
      "Saved variable timeMonthly_avg_ecosysTracers_O2\n",
      "variable: timeMonthly_avg_ecosys_diag_O2_CONSUMPTION\n",
      "Precision in output: f4\n"
     ]
    },
    {
     "name": "stderr",
     "output_type": "stream",
     "text": [
      " 54%|█████▍    | 7/13 [00:22<00:17,  2.94s/it]"
     ]
    },
    {
     "name": "stdout",
     "output_type": "stream",
     "text": [
      "Saved variable timeMonthly_avg_ecosys_diag_O2_CONSUMPTION\n",
      "variable: timeMonthly_avg_ecosys_diag_O2_PRODUCTION\n",
      "Precision in output: f4\n"
     ]
    },
    {
     "name": "stderr",
     "output_type": "stream",
     "text": [
      " 77%|███████▋  | 10/13 [00:25<00:04,  1.50s/it]"
     ]
    },
    {
     "name": "stdout",
     "output_type": "stream",
     "text": [
      "Saved variable timeMonthly_avg_ecosys_diag_O2_PRODUCTION\n",
      "variable: timeMonthly_avg_CO2_gas_flux\n",
      "Precision in output: f4\n",
      "Saved variable timeMonthly_avg_CO2_gas_flux\n",
      "variable: timeMonthly_avg_ecosysTracersSurfaceFlux_O2SurfaceFlux\n",
      "Precision in output: f4\n",
      "Saved variable timeMonthly_avg_ecosysTracersSurfaceFlux_O2SurfaceFlux\n",
      "variable: timeMonthly_avg_ecosys_diag_pCO2surface\n"
     ]
    },
    {
     "name": "stderr",
     "output_type": "stream",
     "text": [
      " 85%|████████▍ | 11/13 [00:25<00:02,  1.15s/it]"
     ]
    },
    {
     "name": "stdout",
     "output_type": "stream",
     "text": [
      "Precision in output: f4\n",
      "Saved variable timeMonthly_avg_ecosys_diag_pCO2surface\n",
      "variable: timeMonthly_avg_atmosphericCO2\n",
      "Precision in output: f4\n",
      "Saved variable timeMonthly_avg_atmosphericCO2\n",
      "variable: timeMonthly_avg_ecosys_diag_dpCO2\n",
      "Precision in output: f4\n"
     ]
    },
    {
     "name": "stderr",
     "output_type": "stream",
     "text": [
      "100%|██████████| 13/13 [00:25<00:00,  1.97s/it]\n"
     ]
    },
    {
     "name": "stdout",
     "output_type": "stream",
     "text": [
      "Saved variable timeMonthly_avg_ecosys_diag_dpCO2\n",
      "Load year 0059\n",
      "Create file /global/cfs/cdirs/m4003/cnissen/6year_run/ARCHIVE/E3SMv2_Eulerian_output_monthly_BIOGEOCHEMISTRY_year_2016.nc\n"
     ]
    },
    {
     "name": "stderr",
     "output_type": "stream",
     "text": [
      "  0%|          | 0/13 [00:00<?, ?it/s]"
     ]
    },
    {
     "name": "stdout",
     "output_type": "stream",
     "text": [
      "variable: timeMonthly_avg_ecosysTracers_DIC\n",
      "Precision in output: f8\n"
     ]
    },
    {
     "name": "stderr",
     "output_type": "stream",
     "text": [
      "  8%|▊         | 1/13 [00:03<00:47,  3.92s/it]"
     ]
    },
    {
     "name": "stdout",
     "output_type": "stream",
     "text": [
      "Saved variable timeMonthly_avg_ecosysTracers_DIC\n",
      "variable: timeMonthly_avg_ecosysTracers_ALK\n",
      "Precision in output: f8\n"
     ]
    },
    {
     "name": "stderr",
     "output_type": "stream",
     "text": [
      " 15%|█▌        | 2/13 [00:07<00:42,  3.84s/it]"
     ]
    },
    {
     "name": "stdout",
     "output_type": "stream",
     "text": [
      "Saved variable timeMonthly_avg_ecosysTracers_ALK\n",
      "variable: timeMonthly_avg_ecosysTracers_NO3\n",
      "Precision in output: f4\n"
     ]
    },
    {
     "name": "stderr",
     "output_type": "stream",
     "text": [
      " 23%|██▎       | 3/13 [00:10<00:31,  3.14s/it]"
     ]
    },
    {
     "name": "stdout",
     "output_type": "stream",
     "text": [
      "Saved variable timeMonthly_avg_ecosysTracers_NO3\n",
      "variable: timeMonthly_avg_ecosysTracers_PO4\n",
      "Precision in output: f8\n"
     ]
    },
    {
     "name": "stderr",
     "output_type": "stream",
     "text": [
      " 31%|███       | 4/13 [00:14<00:32,  3.64s/it]"
     ]
    },
    {
     "name": "stdout",
     "output_type": "stream",
     "text": [
      "Saved variable timeMonthly_avg_ecosysTracers_PO4\n",
      "variable: timeMonthly_avg_ecosysTracers_SiO3\n",
      "Precision in output: f8\n"
     ]
    },
    {
     "name": "stderr",
     "output_type": "stream",
     "text": [
      " 38%|███▊      | 5/13 [00:18<00:29,  3.69s/it]"
     ]
    },
    {
     "name": "stdout",
     "output_type": "stream",
     "text": [
      "Saved variable timeMonthly_avg_ecosysTracers_SiO3\n",
      "variable: timeMonthly_avg_ecosysTracers_O2\n",
      "Precision in output: f4\n"
     ]
    },
    {
     "name": "stderr",
     "output_type": "stream",
     "text": [
      " 46%|████▌     | 6/13 [00:20<00:23,  3.37s/it]"
     ]
    },
    {
     "name": "stdout",
     "output_type": "stream",
     "text": [
      "Saved variable timeMonthly_avg_ecosysTracers_O2\n",
      "variable: timeMonthly_avg_ecosys_diag_O2_CONSUMPTION\n",
      "Precision in output: f4\n"
     ]
    },
    {
     "name": "stderr",
     "output_type": "stream",
     "text": [
      " 54%|█████▍    | 7/13 [00:23<00:19,  3.20s/it]"
     ]
    },
    {
     "name": "stdout",
     "output_type": "stream",
     "text": [
      "Saved variable timeMonthly_avg_ecosys_diag_O2_CONSUMPTION\n",
      "variable: timeMonthly_avg_ecosys_diag_O2_PRODUCTION\n",
      "Precision in output: f4\n"
     ]
    },
    {
     "name": "stderr",
     "output_type": "stream",
     "text": [
      " 77%|███████▋  | 10/13 [00:26<00:04,  1.59s/it]"
     ]
    },
    {
     "name": "stdout",
     "output_type": "stream",
     "text": [
      "Saved variable timeMonthly_avg_ecosys_diag_O2_PRODUCTION\n",
      "variable: timeMonthly_avg_CO2_gas_flux\n",
      "Precision in output: f4\n",
      "Saved variable timeMonthly_avg_CO2_gas_flux\n",
      "variable: timeMonthly_avg_ecosysTracersSurfaceFlux_O2SurfaceFlux\n",
      "Precision in output: f4\n",
      "Saved variable timeMonthly_avg_ecosysTracersSurfaceFlux_O2SurfaceFlux\n",
      "variable: timeMonthly_avg_ecosys_diag_pCO2surface\n",
      "Precision in output: f4\n"
     ]
    },
    {
     "name": "stderr",
     "output_type": "stream",
     "text": [
      "100%|██████████| 13/13 [00:26<00:00,  2.05s/it]"
     ]
    },
    {
     "name": "stdout",
     "output_type": "stream",
     "text": [
      "Saved variable timeMonthly_avg_ecosys_diag_pCO2surface\n",
      "variable: timeMonthly_avg_atmosphericCO2\n",
      "Precision in output: f4\n",
      "Saved variable timeMonthly_avg_atmosphericCO2\n",
      "variable: timeMonthly_avg_ecosys_diag_dpCO2\n",
      "Precision in output: f4\n",
      "Saved variable timeMonthly_avg_ecosys_diag_dpCO2\n",
      "Load year 0060\n"
     ]
    },
    {
     "name": "stderr",
     "output_type": "stream",
     "text": [
      "\n"
     ]
    },
    {
     "name": "stdout",
     "output_type": "stream",
     "text": [
      "Create file /global/cfs/cdirs/m4003/cnissen/6year_run/ARCHIVE/E3SMv2_Eulerian_output_monthly_BIOGEOCHEMISTRY_year_2017.nc\n"
     ]
    },
    {
     "name": "stderr",
     "output_type": "stream",
     "text": [
      "  0%|          | 0/13 [00:00<?, ?it/s]"
     ]
    },
    {
     "name": "stdout",
     "output_type": "stream",
     "text": [
      "variable: timeMonthly_avg_ecosysTracers_DIC\n",
      "Precision in output: f8\n"
     ]
    },
    {
     "name": "stderr",
     "output_type": "stream",
     "text": [
      "  8%|▊         | 1/13 [00:04<00:51,  4.25s/it]"
     ]
    },
    {
     "name": "stdout",
     "output_type": "stream",
     "text": [
      "Saved variable timeMonthly_avg_ecosysTracers_DIC\n",
      "variable: timeMonthly_avg_ecosysTracers_ALK\n",
      "Precision in output: f8\n"
     ]
    },
    {
     "name": "stderr",
     "output_type": "stream",
     "text": [
      " 15%|█▌        | 2/13 [00:07<00:39,  3.63s/it]"
     ]
    },
    {
     "name": "stdout",
     "output_type": "stream",
     "text": [
      "Saved variable timeMonthly_avg_ecosysTracers_ALK\n",
      "variable: timeMonthly_avg_ecosysTracers_NO3\n",
      "Precision in output: f4\n"
     ]
    },
    {
     "name": "stderr",
     "output_type": "stream",
     "text": [
      " 23%|██▎       | 3/13 [00:09<00:29,  2.99s/it]"
     ]
    },
    {
     "name": "stdout",
     "output_type": "stream",
     "text": [
      "Saved variable timeMonthly_avg_ecosysTracers_NO3\n",
      "variable: timeMonthly_avg_ecosysTracers_PO4\n",
      "Precision in output: f8\n"
     ]
    },
    {
     "name": "stderr",
     "output_type": "stream",
     "text": [
      " 31%|███       | 4/13 [00:13<00:31,  3.49s/it]"
     ]
    },
    {
     "name": "stdout",
     "output_type": "stream",
     "text": [
      "Saved variable timeMonthly_avg_ecosysTracers_PO4\n",
      "variable: timeMonthly_avg_ecosysTracers_SiO3\n",
      "Precision in output: f8\n"
     ]
    },
    {
     "name": "stderr",
     "output_type": "stream",
     "text": [
      " 38%|███▊      | 5/13 [00:16<00:26,  3.28s/it]"
     ]
    },
    {
     "name": "stdout",
     "output_type": "stream",
     "text": [
      "Saved variable timeMonthly_avg_ecosysTracers_SiO3\n",
      "variable: timeMonthly_avg_ecosysTracers_O2\n",
      "Precision in output: f4\n"
     ]
    },
    {
     "name": "stderr",
     "output_type": "stream",
     "text": [
      " 46%|████▌     | 6/13 [00:19<00:20,  2.90s/it]"
     ]
    },
    {
     "name": "stdout",
     "output_type": "stream",
     "text": [
      "Saved variable timeMonthly_avg_ecosysTracers_O2\n",
      "variable: timeMonthly_avg_ecosys_diag_O2_CONSUMPTION\n",
      "Precision in output: f4\n"
     ]
    },
    {
     "name": "stderr",
     "output_type": "stream",
     "text": [
      " 54%|█████▍    | 7/13 [00:21<00:16,  2.81s/it]"
     ]
    },
    {
     "name": "stdout",
     "output_type": "stream",
     "text": [
      "Saved variable timeMonthly_avg_ecosys_diag_O2_CONSUMPTION\n",
      "variable: timeMonthly_avg_ecosys_diag_O2_PRODUCTION\n",
      "Precision in output: f4\n"
     ]
    },
    {
     "name": "stderr",
     "output_type": "stream",
     "text": [
      " 69%|██████▉   | 9/13 [00:24<00:07,  1.87s/it]"
     ]
    },
    {
     "name": "stdout",
     "output_type": "stream",
     "text": [
      "Saved variable timeMonthly_avg_ecosys_diag_O2_PRODUCTION\n",
      "variable: timeMonthly_avg_CO2_gas_flux\n",
      "Precision in output: f4\n",
      "Saved variable timeMonthly_avg_CO2_gas_flux\n",
      "variable: timeMonthly_avg_ecosysTracersSurfaceFlux_O2SurfaceFlux\n",
      "Precision in output: f4\n"
     ]
    },
    {
     "name": "stderr",
     "output_type": "stream",
     "text": [
      " 92%|█████████▏| 12/13 [00:24<00:00,  1.35it/s]"
     ]
    },
    {
     "name": "stdout",
     "output_type": "stream",
     "text": [
      "Saved variable timeMonthly_avg_ecosysTracersSurfaceFlux_O2SurfaceFlux\n",
      "variable: timeMonthly_avg_ecosys_diag_pCO2surface\n",
      "Precision in output: f4\n",
      "Saved variable timeMonthly_avg_ecosys_diag_pCO2surface\n",
      "variable: timeMonthly_avg_atmosphericCO2\n",
      "Precision in output: f4\n",
      "Saved variable timeMonthly_avg_atmosphericCO2\n",
      "variable: timeMonthly_avg_ecosys_diag_dpCO2\n",
      "Precision in output: f4\n"
     ]
    },
    {
     "name": "stderr",
     "output_type": "stream",
     "text": [
      "100%|██████████| 13/13 [00:24<00:00,  1.88s/it]"
     ]
    },
    {
     "name": "stdout",
     "output_type": "stream",
     "text": [
      "Saved variable timeMonthly_avg_ecosys_diag_dpCO2\n",
      "done\n"
     ]
    },
    {
     "name": "stderr",
     "output_type": "stream",
     "text": [
      "\n"
     ]
    }
   ],
   "source": [
    "#----\n",
    "# load monthly Eulerian output -> PHYSICS, BIOLOGY or BIOGEOCHEMISTRY\n",
    "#----\n",
    "\n",
    "process_eulerian_monthly = False\n",
    "\n",
    "save_netcdf = True\n",
    "vari_string = 'BIOGEOCHEMISTRY' # PHYSICS, BIOGEOCHEMISTRY, BIOLOGY\n",
    "\n",
    "vari_list_phys = ['timeMonthly_avg_activeTracers_temperature','timeMonthly_avg_activeTracers_salinity',\\\n",
    "                  'timeMonthly_avg_velocityMeridional','timeMonthly_avg_velocityZonal',\\\n",
    "            'timeMonthly_avg_dThreshMLD','timeMonthly_avg_iceAreaCell','timeMonthly_avg_atmosphericPressure']\n",
    "\n",
    "vari_list_bio = ['timeMonthly_avg_ecosysTracers_diatC','timeMonthly_avg_ecosysTracers_diazC',\\\n",
    "                 'timeMonthly_avg_ecosysTracers_spC',\\\n",
    "                 'timeMonthly_avg_ecosysTracers_diatChl','timeMonthly_avg_ecosysTracers_diazChl',\\\n",
    "                 'timeMonthly_avg_ecosysTracers_spChl','timeMonthly_avg_ecosysTracers_zooC']\n",
    "\n",
    "vari_list_bgc = ['timeMonthly_avg_ecosysTracers_DIC','timeMonthly_avg_ecosysTracers_ALK',\\\n",
    "                 'timeMonthly_avg_ecosysTracers_NO3','timeMonthly_avg_ecosysTracers_PO4',\\\n",
    "                 'timeMonthly_avg_ecosysTracers_SiO3',\\\n",
    "                'timeMonthly_avg_ecosysTracers_O2',\\\n",
    "                 'timeMonthly_avg_ecosys_diag_O2_CONSUMPTION','timeMonthly_avg_ecosys_diag_O2_PRODUCTION',\\\n",
    "                'timeMonthly_avg_CO2_gas_flux','timeMonthly_avg_ecosysTracersSurfaceFlux_O2SurfaceFlux',\\\n",
    "                 'timeMonthly_avg_ecosys_diag_pCO2surface','timeMonthly_avg_atmosphericCO2',\\\n",
    "                'timeMonthly_avg_ecosys_diag_dpCO2']\n",
    "\n",
    "list_2D_var = ['timeMonthly_avg_dThreshMLD','timeMonthly_avg_iceAreaCell','timeMonthly_avg_atmosphericPressure',\\\n",
    "              'timeMonthly_avg_CO2_gas_flux','timeMonthly_avg_ecosysTracersSurfaceFlux_O2SurfaceFlux',\\\n",
    "               'timeMonthly_avg_ecosys_diag_pCO2surface','timeMonthly_avg_atmosphericCO2',\\\n",
    "                'timeMonthly_avg_ecosys_diag_dpCO2']\n",
    "\n",
    "list_vari_carbonate = ['timeMonthly_avg_activeTracers_temperature','timeMonthly_avg_activeTracers_salinity',\\\n",
    "                       'timeMonthly_avg_atmosphericPressure',\\\n",
    "                        'timeMonthly_avg_ecosysTracers_DIC','timeMonthly_avg_ecosysTracers_ALK',\\\n",
    "                       'timeMonthly_avg_ecosysTracers_PO4','timeMonthly_avg_ecosysTracers_SiO3']\n",
    "\n",
    "if vari_string in ['PHYSICS']:\n",
    "    vari_string2 = 'physical'\n",
    "    var_list = np.copy(vari_list_phys)\n",
    "elif vari_string in ['BIOGEOCHEMISTRY']:\n",
    "    vari_string2 = 'biogeochemical'\n",
    "    var_list = np.copy(vari_list_bgc)\n",
    "elif vari_string in ['BIOLOGY']:\n",
    "    vari_string2 = 'biological'\n",
    "    var_list = np.copy(vari_list_bio)\n",
    "\n",
    "# needed for lat/lon in model\n",
    "rad_to_deg = 180.0/np.pi\n",
    "\n",
    "path = '/global/cfs/cdirs/m4003/maltrud/6year/monthlyEulerianAverages/'\n",
    "year_list  = ['0055','0056','0057','0058','0059','0060']\n",
    "year_list2 = ['2012','2013','2014','2015','2016','2017']\n",
    "\n",
    "if process_eulerian_monthly:\n",
    "    for yy in range(0,len(year_list)):\n",
    "        print('Load year '+year_list[yy])\n",
    "\n",
    "        file1 =  'monthlyAverageEulerianFields.year'+year_list[yy]+'.nc'  \n",
    "        ff = xr.open_dataset(path+file1)\n",
    "\n",
    "        #---\n",
    "        # create netcdf\n",
    "        # add dimensions\n",
    "        #---\n",
    "        if save_netcdf:\n",
    "            netcdf_name       = 'E3SMv2_Eulerian_output_monthly_'+vari_string+'_year_'+str(year_list2[yy])+'.nc' \n",
    "            script = '/global/homes/c/cnissen/scripts/plot_floats_E3SM_ARCHIVE_GMD_paper.ipynb'\n",
    "            if not os.path.exists(savepath+netcdf_name):\n",
    "                print ('Create file '+savepath+netcdf_name)\n",
    "                w_nc_fid = Dataset(savepath+netcdf_name, 'w', format='NETCDF4_CLASSIC')\n",
    "                # global arguments\n",
    "                w_nc_fid.info = 'File containing monthly Eulerian model output for all '+vari_string2+\\\n",
    "                        ' variables in E3SMv2 for the year '+str(year_list2[yy])\n",
    "                w_nc_fid.contact = 'cara.nissen@colorado.edu or nicole.lovenduski@colorado.edu or maltrud@lanl.gov'\n",
    "                w_nc_fid.original_file = path+file1\n",
    "                w_nc_fid.script = script\n",
    "                w_nc_fid.meshfile = 'Mesh file: '+path_mesh+'ocean.'+meshID+'.210210.nc'\n",
    "                # create dimensions\n",
    "                w_nc_fid.createDimension('nCells', lon.shape[0]) \n",
    "                w_nc_fid.createDimension('nVertLevels', len(zlevs)) \n",
    "                w_nc_fid.createDimension('Time', 12) # MONTHLY\n",
    "                # create variables for dimensions\n",
    "                w_nc_var1 = w_nc_fid.createVariable('nVertLevels', format_data2,('nVertLevels'))\n",
    "                w_nc_var1.note = 'bottom of vertical levels in m'\n",
    "                w_nc_var1 = w_nc_fid.createVariable('lat', format_data2,('nCells'))\n",
    "                w_nc_var1.note = 'Latitude in deg N'\n",
    "                w_nc_var1 = w_nc_fid.createVariable('lon', format_data2,('nCells'))\n",
    "                w_nc_var1.note = 'Longitude in deg E (0-360°)'\n",
    "                # fill dimension variables\n",
    "                w_nc_fid.variables['nVertLevels'][:] = zlevs\n",
    "                w_nc_fid.variables['lat'][:] = lat\n",
    "                w_nc_fid.variables['lon'][:] = lon\n",
    "                w_nc_fid.close()\n",
    "            else:\n",
    "                print ('File '+savepath+netcdf_name+' exists already, overwrite')\n",
    "\n",
    "        for vv in tqdm(range(0,len(var_list))):\n",
    "            print('variable: '+var_list[vv])\n",
    "            \n",
    "            if var_list[vv] in ['timeMonthly_avg_iceAreaCell']:\n",
    "                file2 =  'monthlyAverageIceFraction.year'+year_list[yy]+'.nc'  \n",
    "                ff1 = xr.open_dataset(path+file2)\n",
    "                data1 = ff1[var_list[vv]]\n",
    "                ff1.close()\n",
    "                del file2\n",
    "            else:\n",
    "                data1 = ff[var_list[vv]]\n",
    "            var_units = data1.attrs['units']\n",
    "            long_name = data1.attrs['long_name']\n",
    "            data_all = np.squeeze(data1.values)\n",
    "            del data1\n",
    "            \n",
    "            #print(data_all.shape)\n",
    "\n",
    "           # ## set missing values to NaN (deep ocean layers) \n",
    "           # data_all[data_all==-1]=np.nan\n",
    "           # # the part below is just to make sure there is no random zeros in the fields...\n",
    "           # data_all[data_all==0]=np.nan\n",
    "\n",
    "            #---\n",
    "            # add variable to netcdf\n",
    "            #---\n",
    "            fv = -999\n",
    "            if save_netcdf:\n",
    "                w_nc_fid  = Dataset(savepath+netcdf_name, 'r+', format='NETCDF4_CLASSIC') \n",
    "                if var_list[vv] in list_vari_carbonate:\n",
    "                    format_data = format_data1 # double precision\n",
    "                else:\n",
    "                    format_data = format_data2 # single precision\n",
    "                print('Precision in output:',format_data)\n",
    "                if var_list[vv] in list_2D_var:\n",
    "                    w_nc_var1 = w_nc_fid.createVariable(var_list[vv], format_data,('nCells','Time'),fill_value=fv)\n",
    "                else:\n",
    "                    w_nc_var1 = w_nc_fid.createVariable(var_list[vv], format_data,('nCells','nVertLevels','Time'),fill_value=fv)\n",
    "                w_nc_var1.units     = var_units\n",
    "                w_nc_var1.long_name = long_name\n",
    "                data_all[np.isnan(data_all)] = fv\n",
    "                data_all[data_all==0] = fv\n",
    "                data_all[data_all<-999] = fv\n",
    "                # write field\n",
    "                if var_list[vv] in list_2D_var:\n",
    "                    w_nc_fid.variables[var_list[vv]][:,:] = np.transpose(data_all,[1,0])\n",
    "                else:\n",
    "                    w_nc_fid.variables[var_list[vv]][:,:,:] = np.transpose(data_all,[1,2,0])\n",
    "                w_nc_fid.close()\n",
    "                print('Saved variable',var_list[vv])\n",
    "\n",
    "            del data_all\n",
    "        ff.close()\n",
    "\n",
    "    print ('done')\n",
    "\n",
    "    "
   ]
  },
  {
   "cell_type": "code",
   "execution_count": null,
   "id": "7cf0bf04-c6fc-444e-98b5-09732e378fa7",
   "metadata": {},
   "outputs": [],
   "source": [
    "#----\n",
    "# EULERIAN OUTPUT, DAILY\n",
    "#----"
   ]
  },
  {
   "cell_type": "code",
   "execution_count": null,
   "id": "f0995ce5-ae1b-4229-a373-201c1f787372",
   "metadata": {},
   "outputs": [],
   "source": [
    "#----\n",
    "# load daily Eulerian output -> PHYSICS, BIOLOGY or BIOGEOCHEMISTRY\n",
    "#----\n",
    "\n",
    "process_eulerian_daily = True\n",
    "ind_dd = 24 # only store upper XX depth levels (biomass is zero below)\n",
    "\n",
    "save_netcdf = True\n",
    "vari_string = 'BIOLOGY' # BIOLOGY only!\n",
    "\n",
    "vari_list_bio = ['timeDaily_avg_ecosysTracers_zooC','timeDaily_avg_ecosysTracers_TotalPhytoC',\\\n",
    "                 'timeDaily_avg_ecosysTracers_TotalPhytoChl']\n",
    "list_2D_var = []\n",
    "\n",
    "if vari_string in ['PHYSICS']:\n",
    "    vari_string2 = 'physical'\n",
    "    var_list = np.copy(vari_list_phys)\n",
    "elif vari_string in ['BIOGEOCHEMISTRY']:\n",
    "    vari_string2 = 'biogeochemical'\n",
    "    var_list = np.copy(vari_list_bgc)\n",
    "elif vari_string in ['BIOLOGY']:\n",
    "    vari_string2 = 'biological'\n",
    "    var_list = np.copy(vari_list_bio)\n",
    "\n",
    "# needed for lat/lon in model\n",
    "rad_to_deg = 180.0/np.pi\n",
    "\n",
    "path = '/global/cfs/cdirs/m4003/maltrud/6year/dailyEulerianAverages/'\n",
    "year_list  = ['0055','0056','0057','0058','0059','0060']\n",
    "year_list2 = ['2012','2013','2014','2015','2016','2017']\n",
    "\n",
    "months = ['01','02','03','04','05','06','07','08','09','10','11','12']\n",
    "\n",
    "if process_eulerian_daily:\n",
    "    for yy in range(0,len(year_list)):\n",
    "        print('Load year '+year_list[yy])\n",
    "            \n",
    "        #---\n",
    "        # create netcdf\n",
    "        # add dimensions\n",
    "        #---\n",
    "        if save_netcdf:\n",
    "            netcdf_name       = 'E3SMv2_Eulerian_output_daily_'+vari_string+'_year_'+str(year_list2[yy])+'.nc' \n",
    "            script = '/global/homes/c/cnissen/scripts/plot_floats_E3SM_ARCHIVE_GMD_paper.ipynb'\n",
    "            if not os.path.exists(savepath+netcdf_name):\n",
    "                print ('Create file '+savepath+netcdf_name)\n",
    "                w_nc_fid = Dataset(savepath+netcdf_name, 'w', format='NETCDF4_CLASSIC')\n",
    "                # global arguments\n",
    "                w_nc_fid.info = 'File containing daily Eulerian model output for all '+vari_string2+\\\n",
    "                        ' variables in E3SMv2 for the year '+str(year_list2[yy])\n",
    "                w_nc_fid.contact = 'cara.nissen@colorado.edu or nicole.lovenduski@colorado.edu or maltrud@lanl.gov'\n",
    "                w_nc_fid.original_file = path+file1\n",
    "                w_nc_fid.script = script\n",
    "                w_nc_fid.meshfile = 'Mesh file: '+path_mesh+'ocean.'+meshID+'.210210.nc'\n",
    "                # create dimensions\n",
    "                w_nc_fid.createDimension('nCells', lon.shape[0]) \n",
    "                w_nc_fid.createDimension('nVertLevels', len(zlevs[0:ind_dd])) \n",
    "                w_nc_fid.createDimension('Time', 365) # DAILY\n",
    "                # create variables for dimensions\n",
    "                w_nc_var1 = w_nc_fid.createVariable('nVertLevels', format_data2,('nVertLevels'))\n",
    "                w_nc_var1.note = 'bottom of vertical levels in m'\n",
    "                w_nc_var1 = w_nc_fid.createVariable('lat', format_data2,('nCells'))\n",
    "                w_nc_var1.note = 'Latitude in deg N'\n",
    "                w_nc_var1 = w_nc_fid.createVariable('lon', format_data2,('nCells'))\n",
    "                w_nc_var1.note = 'Longitude in deg E (0-360°)'\n",
    "                # fill dimension variables\n",
    "                w_nc_fid.variables['nVertLevels'][:] = zlevs[0:ind_dd]\n",
    "                w_nc_fid.variables['lat'][:] = lat\n",
    "                w_nc_fid.variables['lon'][:] = lon\n",
    "                w_nc_fid.close()\n",
    "            else:\n",
    "                print ('File '+savepath+netcdf_name+' exists already, overwrite')\n",
    "\n",
    "        for vv in tqdm(range(0,len(var_list))):\n",
    "            print('variable: '+var_list[vv])\n",
    "            \n",
    "            for mm in range(0,len(months)):\n",
    "                print('Load month',months[mm])\n",
    "\n",
    "                file1 = 'GMPAS-OIECO-JRA_r05_EC30to60E2r2_floats_chrys01.mpaso.hist.am.timeSeriesStatsDaily.'+\\\n",
    "                    year_list[yy]+'-'+months[mm]+'-01.Biomass.nc'\n",
    "\n",
    "                ff = xr. open_dataset(path+file1)\n",
    "                if vari_list_bio[vv] in ['timeDaily_avg_ecosysTracers_TotalPhytoC']: \n",
    "                    data1=ff['timeDaily_avg_ecosysTracers_diatC'].values.squeeze()\n",
    "                    data2=ff['timeDaily_avg_ecosysTracers_diazC'].values.squeeze()\n",
    "                    data3=ff['timeDaily_avg_ecosysTracers_spC'].values.squeeze()\n",
    "                elif vari_list_bio[vv] in ['timeDaily_avg_ecosysTracers_TotalPhytoChl']: \n",
    "                    data1=ff['timeDaily_avg_ecosysTracers_diatChl'].values.squeeze()\n",
    "                    data2=ff['timeDaily_avg_ecosysTracers_diazChl'].values.squeeze()\n",
    "                    data3=ff['timeDaily_avg_ecosysTracers_spChl'].values.squeeze()\n",
    "                elif vari_list_bio[vv] in ['timeDaily_avg_ecosysTracers_zooC']: \n",
    "                    data1=ff['timeDaily_avg_ecosysTracers_zooC'].values.squeeze()\n",
    "                    data2=0\n",
    "                    data3=0\n",
    "                ff.close()\n",
    "                aux = data1 + data2 + data3\n",
    "                aux = aux[:,:,0:ind_dd] # only store upper XX depth levels\n",
    "                del data1,data2,data3\n",
    "                aux = np.ma.masked_where(aux<0,aux)\n",
    "\n",
    "                if mm==0:\n",
    "                    data_all = aux\n",
    "                else:\n",
    "                    data_all  = np.concatenate((data_all,aux))\n",
    "\n",
    "                print(data_all.shape)\n",
    "            \n",
    "            if vari_list_bio[vv] in ['timeDaily_avg_ecosysTracers_TotalPhytoC']: \n",
    "                data1=ff['timeDaily_avg_ecosysTracers_diatC']\n",
    "                long_name = 'total phytoplankton carbon'\n",
    "            elif vari_list_bio[vv] in ['timeDaily_avg_ecosysTracers_TotalPhytoChl']: \n",
    "                data1=ff['timeDaily_avg_ecosysTracers_diatChl']\n",
    "                long_name = 'total phytoplankton chlorophyll'\n",
    "            elif vari_list_bio[vv] in ['timeDaily_avg_ecosysTracers_zooC']: \n",
    "                data1=ff['timeDaily_avg_ecosysTracers_zooC']\n",
    "                long_name = 'zooplankton carbon'\n",
    "            var_units = data1.attrs['units']\n",
    "            #long_name = data1.attrs['long_name']\n",
    "            print(var_units,long_name)\n",
    "            del data1\n",
    "\n",
    "            #---\n",
    "            # add variable to netcdf\n",
    "            #---\n",
    "            fv = -999\n",
    "            if save_netcdf:\n",
    "                w_nc_fid  = Dataset(savepath+netcdf_name, 'r+', format='NETCDF4_CLASSIC')     \n",
    "                if var_list[vv] in list_vari_carbonate:\n",
    "                    format_data = format_data1 # double precision\n",
    "                else:\n",
    "                    format_data = format_data2 # single precision\n",
    "                print('Precision in output:',format_data)\n",
    "                if var_list[vv] in list_2D_var:\n",
    "                    w_nc_var1 = w_nc_fid.createVariable(var_list[vv], format_data,('nCells','Time'),fill_value=fv)\n",
    "                else:\n",
    "                    w_nc_var1 = w_nc_fid.createVariable(var_list[vv], format_data,('nCells','nVertLevels','Time'),fill_value=fv)\n",
    "                w_nc_var1.units     = var_units\n",
    "                w_nc_var1.long_name = long_name\n",
    "                data_all[np.isnan(data_all)] = fv\n",
    "                data_all[data_all==0] = fv\n",
    "                data_all[data_all<=-999] = fv\n",
    "                # write field\n",
    "                if var_list[vv] in list_2D_var:\n",
    "                    w_nc_fid.variables[var_list[vv]][:,:] = np.transpose(data_all,[1,0])\n",
    "                else:\n",
    "                    w_nc_fid.variables[var_list[vv]][:,:,:] = np.transpose(data_all,[1,2,0])\n",
    "                w_nc_fid.close()\n",
    "                print('Saved variable',var_list[vv])\n",
    "\n",
    "            del data_all\n",
    "        ff.close()\n",
    "\n",
    "    print ('done')\n",
    "\n",
    "    \n",
    "    "
   ]
  },
  {
   "cell_type": "code",
   "execution_count": null,
   "id": "edc8d984-759a-432a-a6b2-7a138ac9c36a",
   "metadata": {},
   "outputs": [],
   "source": [
    "print(np.transpose(data_all,[1,2,0]).shape)\n",
    "print(data_all.shape)\n"
   ]
  },
  {
   "cell_type": "code",
   "execution_count": null,
   "id": "1e81b2fa-14cd-4e35-9885-fc0632e9438f",
   "metadata": {},
   "outputs": [],
   "source": [
    "print(path+file1)"
   ]
  },
  {
   "cell_type": "code",
   "execution_count": null,
   "id": "fe61f15a-f0a8-4f50-80fd-c3981591d498",
   "metadata": {},
   "outputs": [],
   "source": []
  }
 ],
 "metadata": {
  "kernelspec": {
   "display_name": "myenv-jupyter",
   "language": "python",
   "name": "myenv-jupyter"
  },
  "language_info": {
   "codemirror_mode": {
    "name": "ipython",
    "version": 3
   },
   "file_extension": ".py",
   "mimetype": "text/x-python",
   "name": "python",
   "nbconvert_exporter": "python",
   "pygments_lexer": "ipython3",
   "version": "3.9.12"
  }
 },
 "nbformat": 4,
 "nbformat_minor": 5
}
